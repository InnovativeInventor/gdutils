{
 "cells": [
  {
   "cell_type": "markdown",
   "metadata": {},
   "source": [
    "gdutils.dataqa\n",
    "=============="
   ]
  },
  {
   "cell_type": "markdown",
   "metadata": {},
   "source": [
    "``dataqa`` is a module in package ``gdutils`` that provides functions used in data quality assurance.\n",
    "\n",
    "*Status:* In development"
   ]
  },
  {
   "cell_type": "markdown",
   "metadata": {},
   "source": [
    "---\n",
    "\n",
    "__Examples Setup__"
   ]
  },
  {
   "cell_type": "code",
   "execution_count": null,
   "metadata": {},
   "outputs": [],
   "source": [
    "# Install ``gdutils`` package\n",
    "!pip install git+https://github.com/KeiferC/gdutils.git > /dev/null"
   ]
  },
  {
   "cell_type": "code",
   "execution_count": null,
   "metadata": {},
   "outputs": [],
   "source": [
    "import gdutils.dataqa as dq # imports the ``dataqa`` module\n",
    "\n",
    "import geopandas as gpd\n",
    "import pandas as pd\n",
    "import json\n",
    "\n",
    "import gdutils.datamine as dm\n",
    "import gdutils.extract as et"
   ]
  },
  {
   "cell_type": "code",
   "execution_count": null,
   "metadata": {},
   "outputs": [],
   "source": [
    "# Gather example datasets\n",
    "dm.clone_gh_repos('mggg-states', 'orgs', ['AK-shapefiles'])\n",
    "dm.clone_gh_repos('MEDSL', 'users', ['official-precinct-returns'])\n",
    "    # ^ this is a very large dataset -- will take some time to clone"
   ]
  },
  {
   "cell_type": "code",
   "execution_count": null,
   "metadata": {},
   "outputs": [],
   "source": [
    "# List available datasets to use"
   ]
  },
  {
   "cell_type": "code",
   "execution_count": null,
   "metadata": {},
   "outputs": [],
   "source": [
    "dm.list_files_of_type('.zip', 'AK-shapefiles/')"
   ]
  },
  {
   "cell_type": "code",
   "execution_count": null,
   "metadata": {},
   "outputs": [],
   "source": [
    "dm.list_files_of_type('.zip', 'official-precinct-returns/')\n",
    "    # output not displayed since it takes up too much screen space"
   ]
  },
  {
   "cell_type": "code",
   "execution_count": null,
   "metadata": {},
   "outputs": [],
   "source": [
    "# Extract applicable data subsets"
   ]
  },
  {
   "cell_type": "code",
   "execution_count": null,
   "metadata": {},
   "outputs": [],
   "source": [
    "mggg_gdf = et.read_file('AK-shapefiles/AK_precincts.zip', column='NAME').extract()"
   ]
  },
  {
   "cell_type": "code",
   "execution_count": null,
   "metadata": {},
   "outputs": [],
   "source": [
    "medsl_et = et.read_file('official-precinct-returns/2016-precinct-president/2016-precinct-president.zip')\n",
    "medsl_et.column = 'state'\n",
    "medsl_et.value = 'Alaska'\n",
    "medsl_gdf = medsl_et.extract()"
   ]
  },
  {
   "cell_type": "code",
   "execution_count": null,
   "metadata": {},
   "outputs": [],
   "source": [
    "# Data-wrangle MEDSL data\n",
    "medsl_pvt = medsl_gdf.pivot_table(index='precinct', \n",
    "                                  columns=['office', 'party'], \n",
    "                                  values='votes')\n",
    "medsl_pvt.columns = [' '.join(col).strip() for col in medsl_pvt.columns.values]\n",
    "medsl_gdf = et.ExtractTable(medsl_pvt).extract()"
   ]
  },
  {
   "cell_type": "code",
   "execution_count": null,
   "metadata": {},
   "outputs": [],
   "source": [
    "# Load and generate naming convention standards\n",
    "with open('naming_convention.json') as json_file:\n",
    "    standards_raw = json.load(json_file)\n",
    "    \n",
    "offices = dm.get_keys_by_category(standards_raw, 'offices')\n",
    "parties = dm.get_keys_by_category(standards_raw, 'parties')\n",
    "counts = dm.get_keys_by_category(standards_raw, 'counts')\n",
    "others = dm.get_keys_by_category(standards_raw, \n",
    "            ['geographies', 'demographics', 'districts', 'other'])\n",
    "\n",
    "elections = [office + format(year, '02') + party \n",
    "                 for office in offices\n",
    "                 for year in range(0, 21)\n",
    "                 for party in parties \n",
    "                 if not (office == 'PRES' and year % 4 != 0)]\n",
    "\n",
    "counts = [count + format(year, '02') for count in counts \n",
    "                                     for year in range(0, 20)]\n",
    "\n",
    "standards = elections + counts + others"
   ]
  },
  {
   "cell_type": "markdown",
   "metadata": {},
   "source": [
    "---\n",
    "\n",
    "Example 1. Compare column names against a standard\n",
    "-----------------------------------------------------------------"
   ]
  },
  {
   "cell_type": "code",
   "execution_count": null,
   "metadata": {},
   "outputs": [],
   "source": [
    "# Ex. 1.\n",
    "\n",
    "(in_standards, not_in_standards) = dq.compare_column_names(mggg_gdf, standards)"
   ]
  },
  {
   "cell_type": "code",
   "execution_count": null,
   "metadata": {},
   "outputs": [],
   "source": [
    "in_standards # renders set of column names in mggg_gdf that fit the standards"
   ]
  },
  {
   "cell_type": "code",
   "execution_count": null,
   "metadata": {},
   "outputs": [],
   "source": [
    "not_in_standards # renders set of column names in mggg_gdf that don't fit the standards"
   ]
  },
  {
   "cell_type": "markdown",
   "metadata": {},
   "source": [
    "Example 2. Aggregate column values\n",
    "--------------------------------------------\n",
    "\n",
    "__Example 2.1.__ Sum the values of one column"
   ]
  },
  {
   "cell_type": "code",
   "execution_count": null,
   "metadata": {},
   "outputs": [],
   "source": [
    "# Ex. 2.1\n",
    "\n",
    "aggregates = dq.sum_column_values(mggg_gdf, ['PRES16D'])\n",
    "aggregates"
   ]
  },
  {
   "cell_type": "markdown",
   "metadata": {},
   "source": [
    "__Example 2.1.__ Sum the values of multiple columns"
   ]
  },
  {
   "cell_type": "code",
   "execution_count": null,
   "metadata": {},
   "outputs": [],
   "source": [
    "# Ex. 2.2.\n",
    "columns_to_aggregate = ['PRES16D', 'PRES16G', 'PRES16R', 'PRES16L']\n",
    "aggregates = dq.sum_column_values(mggg_gdf, columns_to_aggregate)\n",
    "aggregates"
   ]
  },
  {
   "cell_type": "code",
   "execution_count": null,
   "metadata": {},
   "outputs": [],
   "source": [
    "# Print results in a pretty format\n",
    "print('Column name : Sum of column values')\n",
    "print('----------------------------------')\n",
    "\n",
    "for aggregate in aggregates:\n",
    "    (column_name, column_sum) = aggregate\n",
    "    print('{:11} : {}'.format(column_name, column_sum))"
   ]
  },
  {
   "cell_type": "markdown",
   "metadata": {},
   "source": [
    "Example 3. Compare every value of a column against every value of another column\n",
    "--------------------------------------------------------------------------------------------------"
   ]
  },
  {
   "cell_type": "code",
   "execution_count": null,
   "metadata": {},
   "outputs": [],
   "source": [
    "# Setup sample tables for Example 3\n",
    "df1 = pd.DataFrame(data=[[1, 2, 3], [4, 5, 6]],\n",
    "                   columns=['COL1', 'COL2', 'COL3'])\n",
    "df2 = pd.DataFrame(data=[[4, 5], [1, 2]], columns=['col2', 'col1'])"
   ]
  },
  {
   "cell_type": "markdown",
   "metadata": {},
   "source": [
    "__Example 3.1.__ Compare one column from one tables against one column from another table"
   ]
  },
  {
   "cell_type": "code",
   "execution_count": null,
   "metadata": {},
   "outputs": [],
   "source": [
    "# Ex. 3.1.\n",
    "\n",
    "results = dq.compare_column_values(df1, df2, ['COL3'], ['col2'])\n",
    "results"
   ]
  },
  {
   "cell_type": "markdown",
   "metadata": {},
   "source": [
    "__Example 3.2.__ Compare multiple columns from two tables against each other"
   ]
  },
  {
   "cell_type": "code",
   "execution_count": null,
   "metadata": {},
   "outputs": [],
   "source": [
    "# Ex. 3.2.\n",
    "\n",
    "results = dq.compare_column_values(df1, df2, \n",
    "                                   ['COL1', 'COL2'],\n",
    "                                   ['col1', 'col2'])\n",
    "results"
   ]
  },
  {
   "cell_type": "code",
   "execution_count": null,
   "metadata": {},
   "outputs": [],
   "source": [
    "# Print results in a pretty format\n",
    "for column_to_column in results:\n",
    "    print('{} ========'.format(column_to_column))\n",
    "    for row_to_row, absolute_difference in results[column_to_column]:\n",
    "        print('{:3} : {}'.format(row_to_row, absolute_difference))"
   ]
  },
  {
   "cell_type": "markdown",
   "metadata": {},
   "source": [
    "__Example 3.3.__ Compare a row in a column against a specific row in another column"
   ]
  },
  {
   "cell_type": "code",
   "execution_count": null,
   "metadata": {},
   "outputs": [],
   "source": [
    "# Ex. 3.3.\n",
    "results = dq.compare_column_values(mggg_gdf, medsl_gdf, \n",
    "                                   ['PRES16D'], ['US President democratic'],\n",
    "                                   ['01-446 AURORA'], ['01-446 Aurora'])\n",
    "results"
   ]
  },
  {
   "cell_type": "markdown",
   "metadata": {},
   "source": [
    "__Example 3.4.__ Compare specific rows in a column against specific rows in another column"
   ]
  },
  {
   "cell_type": "code",
   "execution_count": null,
   "metadata": {},
   "outputs": [],
   "source": [
    "# Ex. 3.4.\n",
    "results = dq.compare_column_values(mggg_gdf, medsl_gdf, \n",
    "                                   ['PRES16D'], ['US President democratic'],\n",
    "                                   ['01-446 AURORA', '01-455 FAIRBANKS NO. 1', '01-465 FAIRBANKS NO. 2'], \n",
    "                                   ['01-446 Aurora', '01-455 Fairbanks No. 1', '01-465 Fairbanks No. 2'])\n",
    "results"
   ]
  },
  {
   "cell_type": "code",
   "execution_count": null,
   "metadata": {},
   "outputs": [],
   "source": [
    "# Print results in a pretty format\n",
    "for column_to_column in results:\n",
    "    print('{} ========'.format(column_to_column))\n",
    "    for row_to_row, absolute_difference in results[column_to_column]:\n",
    "        print('{:45} : {}'.format(row_to_row, absolute_difference))"
   ]
  },
  {
   "cell_type": "markdown",
   "metadata": {},
   "source": [
    "---\n",
    "\n",
    "__Examples Cleanup__\n",
    "\n",
    "The following commands are used to reset and clean up the examples above."
   ]
  },
  {
   "cell_type": "code",
   "execution_count": null,
   "metadata": {},
   "outputs": [],
   "source": [
    "# Remove cloned repos\n",
    "dm.remove_repos('.')"
   ]
  },
  {
   "cell_type": "code",
   "execution_count": null,
   "metadata": {},
   "outputs": [],
   "source": [
    "# Remove outputs\n",
    "!rm -r outputs"
   ]
  },
  {
   "cell_type": "code",
   "execution_count": null,
   "metadata": {},
   "outputs": [],
   "source": [
    "# Uninstall Package\n",
    "!echo y | pip uninstall gdutils"
   ]
  },
  {
   "cell_type": "code",
   "execution_count": null,
   "metadata": {},
   "outputs": [],
   "source": [
    "# Reset Jupyter Notebook IPython Kernel\n",
    "from IPython.core.display import HTML\n",
    "HTML(\"<script>Jupyter.notebook.kernel.restart()</script>\")"
   ]
  }
 ],
 "metadata": {
  "kernelspec": {
   "display_name": "Python 3",
   "language": "python",
   "name": "python3"
  },
  "language_info": {
   "codemirror_mode": {
    "name": "ipython",
    "version": 3
   },
   "file_extension": ".py",
   "mimetype": "text/x-python",
   "name": "python",
   "nbconvert_exporter": "python",
   "pygments_lexer": "ipython3",
   "version": "3.8.5"
  }
 },
 "nbformat": 4,
 "nbformat_minor": 4
}
