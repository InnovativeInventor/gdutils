{
 "cells": [
  {
   "cell_type": "markdown",
   "metadata": {},
   "source": [
    "gdutils.dataqa\n",
    "=============="
   ]
  },
  {
   "cell_type": "markdown",
   "metadata": {},
   "source": [
    "``dataqa`` is a module in package ``gdutils`` that provides functions used in data quality assurance."
   ]
  },
  {
   "cell_type": "markdown",
   "metadata": {},
   "source": [
    "---\n",
    "\n",
    "__Examples Setup__"
   ]
  },
  {
   "cell_type": "code",
   "execution_count": 1,
   "metadata": {},
   "outputs": [],
   "source": [
    "# Install ``gdutils`` package\n",
    "!pip install git+https://github.com/KeiferC/gdutils.git > /dev/null"
   ]
  },
  {
   "cell_type": "code",
   "execution_count": 2,
   "metadata": {},
   "outputs": [],
   "source": [
    "import gdutils.dataqa as dq # imports the ``dataqa`` module\n",
    "\n",
    "import geopandas as gpd\n",
    "import pandas as pd\n",
    "import json\n",
    "\n",
    "import gdutils.datamine as dm\n",
    "import gdutils.extract as et"
   ]
  },
  {
   "cell_type": "code",
   "execution_count": 3,
   "metadata": {},
   "outputs": [],
   "source": [
    "# Gather example datasets\n",
    "dm.clone_gh_repos('mggg-states', 'orgs', ['AK-shapefiles'])\n",
    "dm.clone_gh_repos('MEDSL', 'users', ['official-precinct-returns'])\n",
    "    # ^ this is a very large dataset -- will take some time to clone"
   ]
  },
  {
   "cell_type": "code",
   "execution_count": 4,
   "metadata": {},
   "outputs": [],
   "source": [
    "# List available datasets to use"
   ]
  },
  {
   "cell_type": "code",
   "execution_count": 5,
   "metadata": {},
   "outputs": [
    {
     "data": {
      "text/plain": [
       "['AK-shapefiles/AK_precincts.zip']"
      ]
     },
     "execution_count": 5,
     "metadata": {},
     "output_type": "execute_result"
    }
   ],
   "source": [
    "dm.list_files_of_type('.zip', 'AK-shapefiles/')"
   ]
  },
  {
   "cell_type": "code",
   "execution_count": null,
   "metadata": {},
   "outputs": [],
   "source": [
    "dm.list_files_of_type('.zip', 'official-precinct-returns/')\n",
    "    # output not displayed since it takes up too much screen space"
   ]
  },
  {
   "cell_type": "code",
   "execution_count": 7,
   "metadata": {},
   "outputs": [],
   "source": [
    "# Extract applicable data subsets"
   ]
  },
  {
   "cell_type": "code",
   "execution_count": 8,
   "metadata": {},
   "outputs": [],
   "source": [
    "mggg_gdf = et.read_file('AK-shapefiles/AK_precincts.zip', column='NAME').extract()"
   ]
  },
  {
   "cell_type": "code",
   "execution_count": null,
   "metadata": {},
   "outputs": [],
   "source": [
    "medsl_et = et.read_file('official-precinct-returns/2016-precinct-president/2016-precinct-president.zip',\n",
    "                        column='state', value='Alaska')\n",
    "medsl_gdf = medsl_et.extract()"
   ]
  },
  {
   "cell_type": "code",
   "execution_count": 10,
   "metadata": {},
   "outputs": [],
   "source": [
    "# Data-wrangle MEDSL data\n",
    "medsl_pvt = medsl_gdf.pivot_table(index='precinct', \n",
    "                                  columns=['office', 'party'], \n",
    "                                  values='votes')\n",
    "medsl_pvt.columns = [' '.join(col).strip() for col in medsl_pvt.columns.values]\n",
    "medsl_gdf = et.ExtractTable(medsl_pvt).extract()"
   ]
  },
  {
   "cell_type": "code",
   "execution_count": 11,
   "metadata": {},
   "outputs": [],
   "source": [
    "# Load and generate naming convention standards\n",
    "with open('naming_convention.json') as json_file:\n",
    "    standards_raw = json.load(json_file)\n",
    "    \n",
    "offices = dm.get_keys_by_category(standards_raw, 'offices')\n",
    "parties = dm.get_keys_by_category(standards_raw, 'parties')\n",
    "counts = dm.get_keys_by_category(standards_raw, 'counts')\n",
    "others = dm.get_keys_by_category(standards_raw, \n",
    "            ['geographies', 'demographics', 'districts', 'other'])\n",
    "\n",
    "elections = [office + format(year, '02') + party \n",
    "                 for office in offices\n",
    "                 for year in range(0, 21)\n",
    "                 for party in parties \n",
    "                 if not (office == 'PRES' and year % 4 != 0)]\n",
    "\n",
    "counts = [count + format(year, '02') for count in counts \n",
    "                                     for year in range(0, 20)]\n",
    "\n",
    "standards = elections + counts + others"
   ]
  },
  {
   "cell_type": "markdown",
   "metadata": {},
   "source": [
    "---\n",
    "\n",
    "Example 1. Compare column names against a standard\n",
    "-----------------------------------------------------------------"
   ]
  },
  {
   "cell_type": "code",
   "execution_count": 12,
   "metadata": {},
   "outputs": [],
   "source": [
    "# Ex. 1.\n",
    "\n",
    "(in_standards, not_in_standards) = dq.compare_column_names(mggg_gdf, standards)"
   ]
  },
  {
   "cell_type": "code",
   "execution_count": 13,
   "metadata": {},
   "outputs": [
    {
     "data": {
      "text/plain": [
       "{'2MOREVAP',\n",
       " 'AMINVAP',\n",
       " 'ASIANVAP',\n",
       " 'BVAP',\n",
       " 'GOV18D',\n",
       " 'GOV18L',\n",
       " 'GOV18R',\n",
       " 'HDIST',\n",
       " 'NHPIVAP',\n",
       " 'OTHERVAP',\n",
       " 'PRES16D',\n",
       " 'PRES16G',\n",
       " 'PRES16L',\n",
       " 'PRES16R',\n",
       " 'SEN16D',\n",
       " 'SEN16L',\n",
       " 'SEN16R',\n",
       " 'TOTPOP',\n",
       " 'USH14D',\n",
       " 'USH14L',\n",
       " 'USH14R',\n",
       " 'USH16D',\n",
       " 'USH16L',\n",
       " 'USH16R',\n",
       " 'USH18D',\n",
       " 'USH18R',\n",
       " 'VAP',\n",
       " 'WVAP',\n",
       " 'geometry'}"
      ]
     },
     "execution_count": 13,
     "metadata": {},
     "output_type": "execute_result"
    }
   ],
   "source": [
    "in_standards # renders set of column names in mggg_gdf that fit the standards"
   ]
  },
  {
   "cell_type": "code",
   "execution_count": 14,
   "metadata": {},
   "outputs": [
    {
     "data": {
      "text/plain": [
       "{'2MORE',\n",
       " 'AMIN',\n",
       " 'AREA',\n",
       " 'ASIAN',\n",
       " 'BLACK',\n",
       " 'DISTRICT',\n",
       " 'ID',\n",
       " 'NHPI',\n",
       " 'OTHER',\n",
       " 'POPULATION',\n",
       " 'PRES16C',\n",
       " 'WHITE'}"
      ]
     },
     "execution_count": 14,
     "metadata": {},
     "output_type": "execute_result"
    }
   ],
   "source": [
    "not_in_standards # renders set of column names in mggg_gdf that don't fit the standards"
   ]
  },
  {
   "cell_type": "markdown",
   "metadata": {},
   "source": [
    "Example 2. Aggregate column values\n",
    "--------------------------------------------\n",
    "\n",
    "__Example 2.1.__ Sum the values of one column"
   ]
  },
  {
   "cell_type": "code",
   "execution_count": 15,
   "metadata": {},
   "outputs": [
    {
     "data": {
      "text/plain": [
       "[('PRES16D', 69097)]"
      ]
     },
     "execution_count": 15,
     "metadata": {},
     "output_type": "execute_result"
    }
   ],
   "source": [
    "# Ex. 2.1\n",
    "\n",
    "aggregates = dq.sum_column_values(mggg_gdf, ['PRES16D'])\n",
    "aggregates"
   ]
  },
  {
   "cell_type": "markdown",
   "metadata": {},
   "source": [
    "__Example 2.1.__ Sum the values of multiple columns"
   ]
  },
  {
   "cell_type": "code",
   "execution_count": 16,
   "metadata": {},
   "outputs": [
    {
     "data": {
      "text/plain": [
       "[('PRES16D', 69097),\n",
       " ('PRES16G', 3782),\n",
       " ('PRES16L', 12004),\n",
       " ('PRES16R', 103457)]"
      ]
     },
     "execution_count": 16,
     "metadata": {},
     "output_type": "execute_result"
    }
   ],
   "source": [
    "# Ex. 2.2.\n",
    "columns_to_aggregate = ['PRES16D', 'PRES16G', 'PRES16R', 'PRES16L']\n",
    "aggregates = dq.sum_column_values(mggg_gdf, columns_to_aggregate)\n",
    "aggregates"
   ]
  },
  {
   "cell_type": "code",
   "execution_count": 17,
   "metadata": {},
   "outputs": [
    {
     "name": "stdout",
     "output_type": "stream",
     "text": [
      "Column name : Sum of column values\n",
      "----------------------------------\n",
      "PRES16D     : 69097\n",
      "PRES16G     : 3782\n",
      "PRES16L     : 12004\n",
      "PRES16R     : 103457\n"
     ]
    }
   ],
   "source": [
    "# Print results in a pretty format\n",
    "print('Column name : Sum of column values')\n",
    "print('----------------------------------')\n",
    "\n",
    "for aggregate in aggregates:\n",
    "    (column_name, column_sum) = aggregate\n",
    "    print('{:11} : {}'.format(column_name, column_sum))"
   ]
  },
  {
   "cell_type": "markdown",
   "metadata": {},
   "source": [
    "Example 3. Compare every value of a column against every value of another column\n",
    "--------------------------------------------------------------------------------------------------"
   ]
  },
  {
   "cell_type": "code",
   "execution_count": 18,
   "metadata": {},
   "outputs": [],
   "source": [
    "# Setup sample tables for Example 3\n",
    "df1 = pd.DataFrame(data=[[1, 2, 3], [4, 5, 6]],\n",
    "                   columns=['COL1', 'COL2', 'COL3'])\n",
    "df2 = pd.DataFrame(data=[[4, 5], [1, 2]], columns=['col2', 'col1'])"
   ]
  },
  {
   "cell_type": "markdown",
   "metadata": {},
   "source": [
    "__Example 3.1.__ Compare one column from one tables against one column from another table"
   ]
  },
  {
   "cell_type": "code",
   "execution_count": 19,
   "metadata": {},
   "outputs": [
    {
     "data": {
      "text/plain": [
       "{'COL3 [vs] col2': [('0 [vs] 0', -1), ('1 [vs] 1', 5)]}"
      ]
     },
     "execution_count": 19,
     "metadata": {},
     "output_type": "execute_result"
    }
   ],
   "source": [
    "# Ex. 3.1.\n",
    "\n",
    "results = dq.compare_column_values(df1, df2, ['COL3'], ['col2'])\n",
    "results"
   ]
  },
  {
   "cell_type": "markdown",
   "metadata": {},
   "source": [
    "__Example 3.2.__ Compare multiple columns from two tables against each other"
   ]
  },
  {
   "cell_type": "code",
   "execution_count": 20,
   "metadata": {},
   "outputs": [
    {
     "data": {
      "text/plain": [
       "{'COL1 [vs] col1': [('0 [vs] 0', -4), ('1 [vs] 1', 2)],\n",
       " 'COL2 [vs] col2': [('0 [vs] 0', -2), ('1 [vs] 1', 4)]}"
      ]
     },
     "execution_count": 20,
     "metadata": {},
     "output_type": "execute_result"
    }
   ],
   "source": [
    "# Ex. 3.2.\n",
    "\n",
    "results = dq.compare_column_values(df1, df2, \n",
    "                                   ['COL1', 'COL2'],\n",
    "                                   ['col1', 'col2'])\n",
    "results"
   ]
  },
  {
   "cell_type": "code",
   "execution_count": 21,
   "metadata": {},
   "outputs": [
    {
     "name": "stdout",
     "output_type": "stream",
     "text": [
      "COL1 [vs] col1 ========\n",
      "0 [vs] 0 : -4\n",
      "1 [vs] 1 : 2\n",
      "COL2 [vs] col2 ========\n",
      "0 [vs] 0 : -2\n",
      "1 [vs] 1 : 4\n"
     ]
    }
   ],
   "source": [
    "# Print results in a pretty format\n",
    "for column_to_column in results:\n",
    "    print('{} ========'.format(column_to_column))\n",
    "    for row_to_row, difference in results[column_to_column]:\n",
    "        print('{:3} : {}'.format(row_to_row, difference))"
   ]
  },
  {
   "cell_type": "markdown",
   "metadata": {},
   "source": [
    "__Example 3.3.__ Compare a row in a column against a specific row in another column"
   ]
  },
  {
   "cell_type": "code",
   "execution_count": 22,
   "metadata": {},
   "outputs": [
    {
     "data": {
      "text/plain": [
       "{'PRES16D [vs] US President democratic': [('01-446 AURORA [vs] 01-446 Aurora',\n",
       "   0.0)]}"
      ]
     },
     "execution_count": 22,
     "metadata": {},
     "output_type": "execute_result"
    }
   ],
   "source": [
    "# Ex. 3.3.\n",
    "results = dq.compare_column_values(mggg_gdf, medsl_gdf, \n",
    "                                   ['PRES16D'], ['US President democratic'],\n",
    "                                   ['01-446 AURORA'], ['01-446 Aurora'])\n",
    "results"
   ]
  },
  {
   "cell_type": "markdown",
   "metadata": {},
   "source": [
    "__Example 3.4.__ Compare specific rows in a column against specific rows in another column"
   ]
  },
  {
   "cell_type": "code",
   "execution_count": 23,
   "metadata": {},
   "outputs": [
    {
     "data": {
      "text/plain": [
       "{'PRES16D [vs] US President democratic': [('01-446 AURORA [vs] 01-446 Aurora',\n",
       "   0.0),\n",
       "  ('01-455 FAIRBANKS NO. 1 [vs] 01-455 Fairbanks No. 1', 0.0),\n",
       "  ('01-465 FAIRBANKS NO. 2 [vs] 01-465 Fairbanks No. 2', 0.0)]}"
      ]
     },
     "execution_count": 23,
     "metadata": {},
     "output_type": "execute_result"
    }
   ],
   "source": [
    "# Ex. 3.4.\n",
    "results = dq.compare_column_values(mggg_gdf, medsl_gdf, \n",
    "                                   ['PRES16D'], ['US President democratic'],\n",
    "                                   ['01-446 AURORA', '01-455 FAIRBANKS NO. 1', '01-465 FAIRBANKS NO. 2'], \n",
    "                                   ['01-446 Aurora', '01-455 Fairbanks No. 1', '01-465 Fairbanks No. 2'])\n",
    "results"
   ]
  },
  {
   "cell_type": "code",
   "execution_count": 24,
   "metadata": {},
   "outputs": [
    {
     "name": "stdout",
     "output_type": "stream",
     "text": [
      "PRES16D [vs] US President democratic ========\n",
      "01-446 AURORA [vs] 01-446 Aurora                   : 0.0\n",
      "01-455 FAIRBANKS NO. 1 [vs] 01-455 Fairbanks No. 1 : 0.0\n",
      "01-465 FAIRBANKS NO. 2 [vs] 01-465 Fairbanks No. 2 : 0.0\n"
     ]
    }
   ],
   "source": [
    "# Print results in a pretty format\n",
    "for column_to_column in results:\n",
    "    print('{} ========'.format(column_to_column))\n",
    "    for row_to_row, difference in results[column_to_column]:\n",
    "        print('{:50} : {}'.format(row_to_row, difference))"
   ]
  },
  {
   "cell_type": "markdown",
   "metadata": {},
   "source": [
    "Example 4. Compare column aggregates\n",
    "------------------------------------------------\n",
    "\n",
    "__4.1.__ Compare one column's aggregates against another column's aggregates"
   ]
  },
  {
   "cell_type": "code",
   "execution_count": 25,
   "metadata": {},
   "outputs": [
    {
     "data": {
      "text/plain": [
       "[('PRES16D [vs] US President democratic', -47220.0)]"
      ]
     },
     "execution_count": 25,
     "metadata": {},
     "output_type": "execute_result"
    }
   ],
   "source": [
    "# Ex. 4.1\n",
    "\n",
    "results = dq.compare_column_sums(mggg_gdf, medsl_gdf,\n",
    "                                 ['PRES16D'], ['US President democratic'])\n",
    "results"
   ]
  },
  {
   "cell_type": "markdown",
   "metadata": {},
   "source": [
    "__4.2.__ Compare multiple column aggregates against multiple column aggregates"
   ]
  },
  {
   "cell_type": "code",
   "execution_count": 26,
   "metadata": {},
   "outputs": [
    {
     "data": {
      "text/plain": [
       "[('PRES16D [vs] US President democratic', -47220.0),\n",
       " ('PRES16G [vs] US President green', -1947.5),\n",
       " ('PRES16L [vs] US President libertarian', -6717.5),\n",
       " ('PRES16R [vs] US President republican', -59910.0)]"
      ]
     },
     "execution_count": 26,
     "metadata": {},
     "output_type": "execute_result"
    }
   ],
   "source": [
    "# Ex. 4.2.\n",
    "mggg_columns = ['PRES16D', 'PRES16G', 'PRES16R', 'PRES16L']\n",
    "medsl_columns = ['US President democratic', 'US President green',\n",
    "                 'US President republican', 'US President libertarian']\n",
    "\n",
    "results = dq.compare_column_sums(mggg_gdf, medsl_gdf,\n",
    "                                 mggg_columns, medsl_columns)\n",
    "results"
   ]
  },
  {
   "cell_type": "code",
   "execution_count": 27,
   "metadata": {},
   "outputs": [
    {
     "name": "stdout",
     "output_type": "stream",
     "text": [
      "Column [vs] Column : Difference of column sums\n",
      "----------------------------------------------\n",
      "PRES16D [vs] US President democratic     : -47220.0\n",
      "PRES16G [vs] US President green          : -1947.5\n",
      "PRES16L [vs] US President libertarian    : -6717.5\n",
      "PRES16R [vs] US President republican     : -59910.0\n"
     ]
    }
   ],
   "source": [
    "# Print results in a pretty format\n",
    "print('Column [vs] Column : Difference of column sums')\n",
    "print('----------------------------------------------')\n",
    "\n",
    "for result in results:\n",
    "    (col_v_col, diff) = result\n",
    "    print('{:40} : {}'.format(col_v_col, diff))"
   ]
  },
  {
   "cell_type": "markdown",
   "metadata": {},
   "source": [
    "---\n",
    "\n",
    "__Examples Cleanup__\n",
    "\n",
    "The following commands are used to reset and clean up the examples above."
   ]
  },
  {
   "cell_type": "code",
   "execution_count": 28,
   "metadata": {},
   "outputs": [],
   "source": [
    "# Remove cloned repos\n",
    "dm.remove_repos('.')"
   ]
  },
  {
   "cell_type": "code",
   "execution_count": 29,
   "metadata": {},
   "outputs": [
    {
     "name": "stdout",
     "output_type": "stream",
     "text": [
      "rm: outputs: No such file or directory\r\n"
     ]
    }
   ],
   "source": [
    "# Remove outputs\n",
    "!rm -r outputs"
   ]
  },
  {
   "cell_type": "code",
   "execution_count": 30,
   "metadata": {},
   "outputs": [
    {
     "name": "stdout",
     "output_type": "stream",
     "text": [
      "Found existing installation: gdutils 0.0.1\r\n",
      "Uninstalling gdutils-0.0.1:\r\n",
      "  Would remove:\r\n",
      "    /usr/local/lib/python3.8/site-packages/gdutils-0.0.1.dist-info/*\r\n",
      "    /usr/local/lib/python3.8/site-packages/gdutils/*\r\n",
      "Proceed (y/n)?   Successfully uninstalled gdutils-0.0.1\r\n"
     ]
    }
   ],
   "source": [
    "# Uninstall Package\n",
    "!echo y | pip uninstall gdutils"
   ]
  },
  {
   "cell_type": "code",
   "execution_count": null,
   "metadata": {},
   "outputs": [
    {
     "data": {
      "text/html": [
       "<script>Jupyter.notebook.kernel.restart()</script>"
      ],
      "text/plain": [
       "<IPython.core.display.HTML object>"
      ]
     },
     "execution_count": 31,
     "metadata": {},
     "output_type": "execute_result"
    }
   ],
   "source": [
    "# Reset Jupyter Notebook IPython Kernel\n",
    "from IPython.core.display import HTML\n",
    "HTML(\"<script>Jupyter.notebook.kernel.restart()</script>\")"
   ]
  }
 ],
 "metadata": {
  "kernelspec": {
   "display_name": "Python 3",
   "language": "python",
   "name": "python3"
  },
  "language_info": {
   "codemirror_mode": {
    "name": "ipython",
    "version": 3
   },
   "file_extension": ".py",
   "mimetype": "text/x-python",
   "name": "python",
   "nbconvert_exporter": "python",
   "pygments_lexer": "ipython3",
   "version": "3.8.5"
  }
 },
 "nbformat": 4,
 "nbformat_minor": 4
}
