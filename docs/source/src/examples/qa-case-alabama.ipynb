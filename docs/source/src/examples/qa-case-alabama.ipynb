{
 "cells": [
  {
   "cell_type": "markdown",
   "metadata": {},
   "source": [
    "Data QA Case: ``AK_precincts``\n",
    "========================\n",
    "\n",
    "Below are the steps involved in performing automated data quality checks on the ``AK_precincts`` shapefile from ``mggg-states``.\n",
    "\n",
    "This notebook does the following:\n",
    "1. Collects the following Alaska election data from ``mggg-states``, MEDSL, and Wikipedia:\n",
    "\n",
    "    - 2016 United States presidential election\n",
    "    - 2016 United States Senate elections\n",
    "    - 2016 United States House of Representatives elections\n",
    "    - 2018 United States Senate elections\n",
    "    - 2018 United States House of Representatives elections\n",
    "\n",
    "2. Wrangles the datasets so that they can be compared against each other.\n",
    "3. Checks if column names in ``AK_precincts`` diverge from the MGGG naming convention (as outlined in ``naming_convention.json``).\n",
    "4. Compares the vote counts in ``AK_precincts`` with those in the MEDSL and Wikipedia datasets.\n",
    "5. Prints the aggregated votes in ``AK_precincts`` for ease of spot checking against Secretary of State websites.\n",
    "\n",
    "*Note:* the automated checks are not completely exhaustive and further manual checks are required.\n",
    "\n",
    "Automation Check Timestamp: 02:00 pm ET, 14 August 2020\n",
    "\n",
    "---\n",
    "\n",
    "After running the automated scripts, we recommend doing the following:\n",
    "\n",
    "__Data Standardization__\n",
    "\n",
    "- Manually evaluate column naming discrepancies to determine if changes are needed.\n",
    "- Manually evaluate column datatypes to determine if changes are needed.\n",
    "\n",
    "__Data Comparison__\n",
    "\n",
    "- Manually investigate large differences found through comparing ``AK_precincts`` data with external sources (e.g. Are absentee ballots counted? Are the precinct counts accurate?).\n",
    "- For overcounts, how are the votes counted? e.g. A `USH__D` count may include votes for all Democratic candidates where external sources may be only counting one main Democratic candidate.\n",
    "- For more accurate comparisons, compare ``AK_precincts`` data with those in each States' Secretary of State website.\n",
    "\n",
    "__Topological Soundness__\n",
    "\n",
    "- Manually examine shapefiles for gaps and overlaps. \n",
    "- *Note:* although gaps and overlaps are not necessarily indicators of inaccurate data (because some counties have precinct islands), they *do* mean that the data cannot be for chain runs.\n",
    "\n",
    "__Data Documentation__\n",
    "\n",
    "- Do the READMEs provide data sources?\n",
    "- Do the READMEs describe what aggregation/disaggregation processes were used?\n",
    "- Do the READMEs discuss discrepancies/caveats in the data?\n",
    "- Do the READMEs provide scripts used and/or discuss the data wrangling/processing process?\n",
    "\n",
    "---\n",
    "\n",
    "Step 0. Setup\n",
    "----------------"
   ]
  },
  {
   "cell_type": "code",
   "execution_count": null,
   "metadata": {},
   "outputs": [],
   "source": []
  }
 ],
 "metadata": {
  "kernelspec": {
   "display_name": "Python 3",
   "language": "python",
   "name": "python3"
  },
  "language_info": {
   "codemirror_mode": {
    "name": "ipython",
    "version": 3
   },
   "file_extension": ".py",
   "mimetype": "text/x-python",
   "name": "python",
   "nbconvert_exporter": "python",
   "pygments_lexer": "ipython3",
   "version": "3.8.5"
  }
 },
 "nbformat": 4,
 "nbformat_minor": 4
}
