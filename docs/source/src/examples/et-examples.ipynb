{
 "cells": [
  {
   "cell_type": "markdown",
   "metadata": {},
   "source": [
    "gdutils.extract\n",
    "============"
   ]
  },
  {
   "cell_type": "markdown",
   "metadata": {},
   "source": [
    "`ExtractTable` is a `class` in module `extract`, which provides methods for extracting data from tabular data sources."
   ]
  },
  {
   "cell_type": "markdown",
   "metadata": {},
   "source": [
    "---\n",
    "\n",
    "__Examples Setup__\n",
    "\n",
    "The following commands are used for setting up the examples below. \n",
    "\n",
    "*Note:* The example input files were pulled and converted from the GeoJSON [link](http://d2ad6b4ur7yvpq.cloudfront.net/naturalearth-3.3.0/ne_110m_land.geojson) provided in the [geopandas IO docs](https://geopandas.org/io.html)."
   ]
  },
  {
   "cell_type": "code",
   "execution_count": null,
   "metadata": {},
   "outputs": [],
   "source": [
    "# Install ``gdutils`` package\n",
    "!pip install git+https://github.com/KeiferC/gdutils.git > /dev/null"
   ]
  },
  {
   "cell_type": "code",
   "execution_count": null,
   "metadata": {},
   "outputs": [],
   "source": [
    "import gdutils.extract as et\n",
    "\n",
    "import geopandas as gpd\n",
    "import pandas as pd"
   ]
  },
  {
   "cell_type": "markdown",
   "metadata": {},
   "source": [
    "---\n",
    "\n",
    "Example 1. Extract a table \n",
    "-------------------------------\n",
    "\n",
    "*Note*: returns a ``geopandas GeoDataFrame``\n",
    "\n",
    "__Example 1.1.__ Extract a table from a file\n",
    "\n",
    "\n",
    "- Example 1.1.1. Extract from a shapefile"
   ]
  },
  {
   "cell_type": "code",
   "execution_count": null,
   "metadata": {},
   "outputs": [],
   "source": [
    "# Ex. 1.1.1\n",
    "\n",
    "shp_path = 'example-inputs/example-shp/example.shp' # path to file containing table to extract\n",
    "shp_et = et.ExtractTable(shp_path) # alternative: et.read_file(filepath)\n",
    "shp_gdf = shp_et.extract() # extracts table as a geopandas GeoDataframe\n",
    "\n",
    "shp_gdf.head() # renders first 5 rows of table"
   ]
  },
  {
   "cell_type": "markdown",
   "metadata": {},
   "source": [
    "- Example 1.1.2. Extract from a CSV"
   ]
  },
  {
   "cell_type": "code",
   "execution_count": null,
   "metadata": {},
   "outputs": [],
   "source": [
    "# Ex. 1.1.2\n",
    "\n",
    "csv_path = 'example-inputs/example.csv'\n",
    "csv_et = et.read_file(csv_path) # using alternative\n",
    "csv_gdf = csv_et.extract()\n",
    "\n",
    "csv_gdf.head()"
   ]
  },
  {
   "cell_type": "markdown",
   "metadata": {},
   "source": [
    "- Example 1.1.3. Extract from an Excel file"
   ]
  },
  {
   "cell_type": "code",
   "execution_count": null,
   "metadata": {},
   "outputs": [],
   "source": [
    "# Ex. 1.1.3\n",
    "\n",
    "excel_path = 'example-inputs/example.csv'\n",
    "excel_gdf = et.read_file(excel_path).extract() # shorthand equivalent\n",
    "\n",
    "excel_gdf.head()"
   ]
  },
  {
   "cell_type": "markdown",
   "metadata": {},
   "source": [
    "- Example 1.1.4. Extract from a ZIP file"
   ]
  },
  {
   "cell_type": "code",
   "execution_count": null,
   "metadata": {},
   "outputs": [],
   "source": [
    "# Ex. 1.1.4\n",
    "\n",
    "zip_path = 'example-inputs/example.zip'\n",
    "zip_gdf = et.read_file(zip_path).extract()\n",
    "\n",
    "zip_gdf.head()"
   ]
  },
  {
   "cell_type": "markdown",
   "metadata": {},
   "source": [
    "__Example 1.2.__ Extract a table from a URL"
   ]
  },
  {
   "cell_type": "code",
   "execution_count": null,
   "metadata": {},
   "outputs": [],
   "source": [
    "# Ex. 1.2\n",
    "\n",
    "url = 'http://d2ad6b4ur7yvpq.cloudfront.net/naturalearth-3.3.0/ne_110m_land.geojson' \n",
    "    # URL copied from https://geopandas.org/io.html\n",
    "url_gdf = et.ExtractTable(url).extract()\n",
    "\n",
    "url_gdf.head()"
   ]
  },
  {
   "cell_type": "markdown",
   "metadata": {},
   "source": [
    "__Example 1.3.__ Extract a table from a `pandas DataFrame`"
   ]
  },
  {
   "cell_type": "code",
   "execution_count": null,
   "metadata": {},
   "outputs": [],
   "source": [
    "# Ex. 1.3\n",
    "\n",
    "pandas_df = pd.read_csv(csv_path)\n",
    "pandas_gdf = et.ExtractTable(pandas_df).extract()\n",
    "\n",
    "pandas_gdf.head()"
   ]
  },
  {
   "cell_type": "markdown",
   "metadata": {},
   "source": [
    "__Example 1.4.__ Extract a table from a `geopandas GeoDataFrame`"
   ]
  },
  {
   "cell_type": "code",
   "execution_count": null,
   "metadata": {},
   "outputs": [],
   "source": [
    "# Ex. 1.4\n",
    "\n",
    "geopandas_gdf = et.ExtractTable(csv_gdf).extract()\n",
    "\n",
    "geopandas_gdf.head()"
   ]
  },
  {
   "cell_type": "markdown",
   "metadata": {},
   "source": [
    "Example 2. Extract a table with a selected index\n",
    "-------------------------------------------------------------------------\n",
    "\n",
    "__Example 2.1.__ Extract a table with a known column label as the index"
   ]
  },
  {
   "cell_type": "code",
   "execution_count": null,
   "metadata": {},
   "outputs": [],
   "source": [
    "# Ex. 2.1\n",
    "\n",
    "known_column = 'featurecla'\n",
    "known_column_gdf = et.ExtractTable(shp_path, column=known_column).extract() \n",
    "    # alternative: ExtractTable.read_file(shp_path, column=known_column)\n",
    "\n",
    "known_column_gdf.head()"
   ]
  },
  {
   "cell_type": "markdown",
   "metadata": {},
   "source": [
    "__Example 2.2.__ Extract a table without a known column label as the index"
   ]
  },
  {
   "cell_type": "code",
   "execution_count": null,
   "metadata": {},
   "outputs": [],
   "source": [
    "# Ex. 2.2\n",
    "\n",
    "unknown_column_et = et.ExtractTable(shp_path)\n",
    "columns_list = unknown_column_et.list_columns() # returns a list of columns from which to choose\n",
    "print(columns_list)"
   ]
  },
  {
   "cell_type": "code",
   "execution_count": null,
   "metadata": {},
   "outputs": [],
   "source": [
    "unknown_column_et.column = 'scalerank' # selects the 'scalerank' column as the index\n",
    "unknown_column_gdf = unknown_column_et.extract()\n",
    "\n",
    "unknown_column_gdf.head()"
   ]
  },
  {
   "cell_type": "markdown",
   "metadata": {},
   "source": [
    "Example 3. Extract a subtable\n",
    "-----------------------------------\n",
    "\n",
    "*Note*: The `counties.zip` file contains a shapefile of California county boundaries as sourced from the 2010 US decennial census. The shapefile was pulled from the [NHGIS database](https://data2.nhgis.org)."
   ]
  },
  {
   "cell_type": "code",
   "execution_count": null,
   "metadata": {},
   "outputs": [],
   "source": [
    "counties_file = 'example-inputs/counties.zip'"
   ]
  },
  {
   "cell_type": "markdown",
   "metadata": {},
   "source": [
    "__Example 3.1.__ Extract a subtable without a known column value"
   ]
  },
  {
   "cell_type": "code",
   "execution_count": null,
   "metadata": {},
   "outputs": [],
   "source": [
    "# Ex. 3.1\n",
    "\n",
    "unknown_value_et = et.read_file(counties_file)\n",
    "print(unknown_value_et.list_columns())"
   ]
  },
  {
   "cell_type": "code",
   "execution_count": null,
   "metadata": {},
   "outputs": [],
   "source": [
    "unknown_value_et.column = 'NAME10'\n",
    "print(unknown_value_et.list_values()) # alternatively, use `list_values(unique=True)` to get unique values"
   ]
  },
  {
   "cell_type": "code",
   "execution_count": null,
   "metadata": {},
   "outputs": [],
   "source": [
    "unknown_value_et.value = 'Alameda' # can also take in a list e.g. = ['Alameda', 'Alpine']\n",
    "unknown_value_gdf = unknown_value_et.extract()\n",
    "\n",
    "unknown_value_gdf.head()"
   ]
  },
  {
   "cell_type": "markdown",
   "metadata": {},
   "source": [
    "__Example 3.2.__ Extract a subtable with a known column value"
   ]
  },
  {
   "cell_type": "code",
   "execution_count": null,
   "metadata": {},
   "outputs": [],
   "source": [
    "# Ex. 3.2\n",
    "\n",
    "known_value_gdf = et.read_file(counties_file, column='NAME10', value='Alameda').extract()\n",
    "\n",
    "known_value_gdf.head()"
   ]
  },
  {
   "cell_type": "markdown",
   "metadata": {},
   "source": [
    "__Example 3.3.__ Extract a subtable with known column values"
   ]
  },
  {
   "cell_type": "code",
   "execution_count": null,
   "metadata": {},
   "outputs": [],
   "source": [
    "# Ex. 3.3\n",
    "\n",
    "known_values = ['Alameda', 'San Francisco', 'Napa']\n",
    "known_values_gdf = et.read_file(counties_file, column='NAME10', value=known_values).extract()\n",
    "\n",
    "known_values_gdf.head()"
   ]
  },
  {
   "cell_type": "markdown",
   "metadata": {},
   "source": [
    "Example 4. Extract to a file\n",
    "-------------------------------"
   ]
  },
  {
   "cell_type": "code",
   "execution_count": null,
   "metadata": {},
   "outputs": [],
   "source": [
    "!mkdir outputs # creates a folder called 'output'\n",
    "\n",
    "output_path = 'outputs/output.shp' \n",
    "    # the output filetype depends on the provided extension\n",
    "    # e.g. 'output/output.csv' writes to a CSV file\n",
    "    # e.g. 'output/output.xlsx' writes to an Excel file"
   ]
  },
  {
   "cell_type": "markdown",
   "metadata": {},
   "source": [
    "__Ex. 4.1.__ Extract to file from a geopandas GeoDataFrame"
   ]
  },
  {
   "cell_type": "code",
   "execution_count": null,
   "metadata": {},
   "outputs": [],
   "source": [
    "# Ex. 4.1.\n",
    "\n",
    "et.ExtractTable(known_values_gdf).extract_to_file(output_path)"
   ]
  },
  {
   "cell_type": "code",
   "execution_count": null,
   "metadata": {},
   "outputs": [],
   "source": [
    "# Let's look at the extracted file:\n",
    "et.ExtractTable(output_path).extract().head()"
   ]
  },
  {
   "cell_type": "markdown",
   "metadata": {},
   "source": [
    "__Ex. 4.2.__ Extract to file from input file without known values"
   ]
  },
  {
   "cell_type": "code",
   "execution_count": null,
   "metadata": {},
   "outputs": [],
   "source": [
    "# Ex. 4.2.\n",
    "\n",
    "unknown_to_file_et = et.read_file(counties_file)\n",
    "print(unknown_to_file_et.list_values(column='NAME10', unique=True))"
   ]
  },
  {
   "cell_type": "code",
   "execution_count": null,
   "metadata": {},
   "outputs": [],
   "source": [
    "unknown_to_file_et.column = 'NAME10'\n",
    "unknown_to_file_et.value = ['Merced', 'Solano', 'Humboldt', 'Kings', 'Santa Cruz']\n",
    "unknown_to_file_et.outfile = 'outputs/output.csv' # sets output path\n",
    "\n",
    "unknown_to_file_et.extract_to_file()"
   ]
  },
  {
   "cell_type": "code",
   "execution_count": null,
   "metadata": {},
   "outputs": [],
   "source": [
    "# Let's look at the extracted file:\n",
    "et.read_file('outputs/output.csv').extract().head()"
   ]
  },
  {
   "cell_type": "markdown",
   "metadata": {},
   "source": [
    "__Ex. 4.3.__ Extract to file from input file with known columns and values"
   ]
  },
  {
   "cell_type": "code",
   "execution_count": null,
   "metadata": {},
   "outputs": [],
   "source": [
    "# Ex. 4.3.\n",
    "\n",
    "to_file_values = ['Sacramento', 'Yolo', 'San Diego']\n",
    "\n",
    "et.ExtractTable(counties_file, 'outputs/output.csv', \n",
    "                column='NAME10', value=to_file_values).extract_to_file()"
   ]
  },
  {
   "cell_type": "code",
   "execution_count": null,
   "metadata": {},
   "outputs": [],
   "source": [
    "# Let's look at the extracted file:\n",
    "et.read_file('outputs/output.csv').extract().head()"
   ]
  },
  {
   "cell_type": "markdown",
   "metadata": {},
   "source": [
    "---\n",
    "\n",
    "__Examples Cleanup__\n",
    "\n",
    "The following commands are used to reset and clean up the examples above."
   ]
  },
  {
   "cell_type": "code",
   "execution_count": null,
   "metadata": {},
   "outputs": [],
   "source": [
    "# Remove outputs\n",
    "!rm -r outputs"
   ]
  },
  {
   "cell_type": "code",
   "execution_count": null,
   "metadata": {},
   "outputs": [],
   "source": [
    "# Uninstall Package\n",
    "!echo y | pip uninstall gdutils"
   ]
  },
  {
   "cell_type": "code",
   "execution_count": null,
   "metadata": {},
   "outputs": [],
   "source": [
    "# Reset Jupyter Notebook IPython Kernel\n",
    "from IPython.core.display import HTML\n",
    "HTML(\"<script>Jupyter.notebook.kernel.restart()</script>\")"
   ]
  }
 ],
 "metadata": {
  "kernelspec": {
   "display_name": "Python 3",
   "language": "python",
   "name": "python3"
  },
  "language_info": {
   "codemirror_mode": {
    "name": "ipython",
    "version": 3
   },
   "file_extension": ".py",
   "mimetype": "text/x-python",
   "name": "python",
   "nbconvert_exporter": "python",
   "pygments_lexer": "ipython3",
   "version": "3.8.3"
  }
 },
 "nbformat": 4,
 "nbformat_minor": 4
}
