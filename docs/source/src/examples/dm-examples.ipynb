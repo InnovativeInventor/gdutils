{
 "cells": [
  {
   "cell_type": "markdown",
   "metadata": {},
   "source": [
    "gdutils.datamine\n",
    "=============="
   ]
  },
  {
   "cell_type": "markdown",
   "metadata": {},
   "source": [
    "``datamine`` is a module in package ``gdutils`` that provides functions for finding, listing, and mining data."
   ]
  },
  {
   "cell_type": "markdown",
   "metadata": {},
   "source": [
    "---\n",
    "\n",
    "__Examples Setup__\n",
    "\n",
    "The following commands are used for setting up the examples below. \n",
    "\n",
    "*Note:* The example input files were pulled and converted from the GeoJSON [link](http://d2ad6b4ur7yvpq.cloudfront.net/naturalearth-3.3.0/ne_110m_land.geojson) provided in the [geopandas IO docs](https://geopandas.org/io.html)."
   ]
  },
  {
   "cell_type": "code",
   "execution_count": 1,
   "metadata": {},
   "outputs": [],
   "source": [
    "# Install ``gdutils`` package\n",
    "!pip install git+https://github.com/mggg/gdutils.git > /dev/null"
   ]
  },
  {
   "cell_type": "code",
   "execution_count": 2,
   "metadata": {},
   "outputs": [],
   "source": [
    "import gdutils.datamine as dm # imports the ``datamine`` module\n",
    "\n",
    "import geopandas as gpd\n",
    "import pandas as pd"
   ]
  },
  {
   "cell_type": "markdown",
   "metadata": {},
   "source": [
    "---\n",
    "\n",
    "Example 1. Get a list of public GitHub repos\n",
    "---------------------------------------------------\n",
    "\n",
    "\n",
    "__Example 1.1.__ Get a list of public repos from a GitHub user account"
   ]
  },
  {
   "cell_type": "code",
   "execution_count": 3,
   "metadata": {},
   "outputs": [
    {
     "data": {
      "text/plain": [
       "[('boysenberry-repo-1', 'https://github.com/octocat/boysenberry-repo-1.git'),\n",
       " ('git-consortium', 'https://github.com/octocat/git-consortium.git'),\n",
       " ('hello-worId', 'https://github.com/octocat/hello-worId.git'),\n",
       " ('Hello-World', 'https://github.com/octocat/Hello-World.git'),\n",
       " ('linguist', 'https://github.com/octocat/linguist.git'),\n",
       " ('octocat.github.io', 'https://github.com/octocat/octocat.github.io.git'),\n",
       " ('Spoon-Knife', 'https://github.com/octocat/Spoon-Knife.git'),\n",
       " ('test-repo1', 'https://github.com/octocat/test-repo1.git')]"
      ]
     },
     "execution_count": 3,
     "metadata": {},
     "output_type": "execute_result"
    }
   ],
   "source": [
    "# Ex. 1.1\n",
    "\n",
    "user_account = 'octocat'\n",
    "user_repos = dm.list_gh_repos(user_account, 'users') # gets repos\n",
    "user_repos # renders raw list of repos"
   ]
  },
  {
   "cell_type": "code",
   "execution_count": 4,
   "metadata": {},
   "outputs": [
    {
     "name": "stdout",
     "output_type": "stream",
     "text": [
      "repo name            : repo url\n",
      "-------------------------------\n",
      "boysenberry-repo-1   : https://github.com/octocat/boysenberry-repo-1.git\n",
      "git-consortium       : https://github.com/octocat/git-consortium.git\n",
      "hello-worId          : https://github.com/octocat/hello-worId.git\n",
      "Hello-World          : https://github.com/octocat/Hello-World.git\n",
      "linguist             : https://github.com/octocat/linguist.git\n",
      "octocat.github.io    : https://github.com/octocat/octocat.github.io.git\n",
      "Spoon-Knife          : https://github.com/octocat/Spoon-Knife.git\n",
      "test-repo1           : https://github.com/octocat/test-repo1.git\n"
     ]
    }
   ],
   "source": [
    "# prints list of repos in pretty format using pattern-matching\n",
    "print('{:20} : {}'.format('repo name', 'repo url'))\n",
    "print('-------------------------------')\n",
    "\n",
    "for (repo_name, repo_url) in user_repos:\n",
    "    print('{:20} : {}'.format(repo_name, repo_url))"
   ]
  },
  {
   "cell_type": "markdown",
   "metadata": {},
   "source": [
    "__Example 1.2.__ Get a list of public repos from a GitHub organization account"
   ]
  },
  {
   "cell_type": "code",
   "execution_count": 5,
   "metadata": {},
   "outputs": [
    {
     "name": "stdout",
     "output_type": "stream",
     "text": [
      "repo name            : repo url\n",
      "-------------------------------\n",
      "PA-shapefiles        : https://github.com/mggg-states/PA-shapefiles.git\n",
      "MA-shapefiles        : https://github.com/mggg-states/MA-shapefiles.git\n",
      "WI-shapefiles        : https://github.com/mggg-states/WI-shapefiles.git\n",
      "AK-shapefiles        : https://github.com/mggg-states/AK-shapefiles.git\n",
      "OH-shapefiles        : https://github.com/mggg-states/OH-shapefiles.git\n",
      "TX-shapefiles        : https://github.com/mggg-states/TX-shapefiles.git\n",
      "GA-shapefiles        : https://github.com/mggg-states/GA-shapefiles.git\n",
      "IL-shapefiles        : https://github.com/mggg-states/IL-shapefiles.git\n",
      "NC-shapefiles        : https://github.com/mggg-states/NC-shapefiles.git\n",
      "UT-shapefiles        : https://github.com/mggg-states/UT-shapefiles.git\n",
      "VA-shapefiles        : https://github.com/mggg-states/VA-shapefiles.git\n",
      "VT-shapefiles        : https://github.com/mggg-states/VT-shapefiles.git\n",
      "MI-shapefiles        : https://github.com/mggg-states/MI-shapefiles.git\n",
      "IA-shapefiles        : https://github.com/mggg-states/IA-shapefiles.git\n",
      "RI-shapefiles        : https://github.com/mggg-states/RI-shapefiles.git\n",
      "MN-shapefiles        : https://github.com/mggg-states/MN-shapefiles.git\n",
      "NM-shapefiles        : https://github.com/mggg-states/NM-shapefiles.git\n",
      "MD-shapefiles        : https://github.com/mggg-states/MD-shapefiles.git\n",
      "OR-shapefiles        : https://github.com/mggg-states/OR-shapefiles.git\n",
      "CO-shapefiles        : https://github.com/mggg-states/CO-shapefiles.git\n",
      "OK-shapefiles        : https://github.com/mggg-states/OK-shapefiles.git\n",
      "HI-shapefiles        : https://github.com/mggg-states/HI-shapefiles.git\n",
      "CT-shapefiles        : https://github.com/mggg-states/CT-shapefiles.git\n",
      "AZ-shapefiles        : https://github.com/mggg-states/AZ-shapefiles.git\n",
      "DE-shapefiles        : https://github.com/mggg-states/DE-shapefiles.git\n"
     ]
    }
   ],
   "source": [
    "# Ex. 1.2.\n",
    "\n",
    "org_account = 'mggg-states'\n",
    "org_repos = dm.list_gh_repos(org_account, 'orgs')\n",
    "\n",
    "# prints list of repos in pretty format using pattern-matching\n",
    "print('{:20} : {}'.format('repo name', 'repo url'))\n",
    "print('-------------------------------')\n",
    "\n",
    "for repo_name, repo_url in org_repos:\n",
    "    print('{:20} : {}'.format(repo_name, repo_url))"
   ]
  },
  {
   "cell_type": "markdown",
   "metadata": {},
   "source": [
    "Example 2. Clone public GitHub repos\n",
    "---------------------------------------------------------------\n",
    "\n",
    "__Example 2.1.__ Clone all repositories of a known account"
   ]
  },
  {
   "cell_type": "code",
   "execution_count": 6,
   "metadata": {},
   "outputs": [],
   "source": [
    "# Ex. 2.1\n",
    "\n",
    "dm.clone_gh_repos(user_account, 'users')"
   ]
  },
  {
   "cell_type": "markdown",
   "metadata": {},
   "source": [
    "__Example 2.2.__ Clone specific repositories of a known account"
   ]
  },
  {
   "cell_type": "code",
   "execution_count": 7,
   "metadata": {},
   "outputs": [],
   "source": [
    "# Ex. 2.2.\n",
    "\n",
    "dm.clone_gh_repos(org_account, 'orgs', ['AK-shapefiles', 'AZ-shapefiles'])"
   ]
  },
  {
   "cell_type": "markdown",
   "metadata": {},
   "source": [
    "__Example 2.3.__ Clone specific repos into a given directory"
   ]
  },
  {
   "cell_type": "code",
   "execution_count": 8,
   "metadata": {},
   "outputs": [],
   "source": [
    "# Ex. 2.3.\n",
    "\n",
    "dm.clone_gh_repos(org_account, 'orgs', ['CT-shapefiles'], 'outputs/')"
   ]
  },
  {
   "cell_type": "markdown",
   "metadata": {},
   "source": [
    "__Example 2.4.__ Clone all repos into a given directory"
   ]
  },
  {
   "cell_type": "code",
   "execution_count": 9,
   "metadata": {},
   "outputs": [],
   "source": [
    "# Ex. 2.4.\n",
    "\n",
    "dm.clone_gh_repos(user_account, 'users', outpath='outputs/')"
   ]
  },
  {
   "cell_type": "markdown",
   "metadata": {},
   "source": [
    "Example 4. Get a list of local files of specific types\n",
    "-----------------------------------------------------------\n",
    "\n",
    "__Example 4.1.__ Recursively list files of a given type starting from current working directory"
   ]
  },
  {
   "cell_type": "code",
   "execution_count": 10,
   "metadata": {},
   "outputs": [
    {
     "data": {
      "text/plain": [
       "['./AK-shapefiles/AK_precincts.zip',\n",
       " './AZ-shapefiles/az_precincts.zip',\n",
       " './example-inputs/example.zip',\n",
       " './example-inputs/counties.zip',\n",
       " './outputs/CT-shapefiles/CT_precincts.zip']"
      ]
     },
     "execution_count": 10,
     "metadata": {},
     "output_type": "execute_result"
    }
   ],
   "source": [
    "# Ex. 4.1.\n",
    "\n",
    "files_from_cwd = dm.list_files_of_type('.zip')\n",
    "files_from_cwd"
   ]
  },
  {
   "cell_type": "markdown",
   "metadata": {},
   "source": [
    "__Example 4.2.__ Recursively list files of a given type starting from a given directory"
   ]
  },
  {
   "cell_type": "code",
   "execution_count": 11,
   "metadata": {},
   "outputs": [
    {
     "data": {
      "text/plain": [
       "['outputs/CT-shapefiles/CT_precincts.zip']"
      ]
     },
     "execution_count": 11,
     "metadata": {},
     "output_type": "execute_result"
    }
   ],
   "source": [
    "# Ex. 4.2.\n",
    "\n",
    "files_from_dir = dm.list_files_of_type('.zip', 'outputs/')\n",
    "files_from_dir"
   ]
  },
  {
   "cell_type": "markdown",
   "metadata": {},
   "source": [
    "__Example 4.3.__ Recursively list files of given types starting from a given directory"
   ]
  },
  {
   "cell_type": "code",
   "execution_count": 12,
   "metadata": {},
   "outputs": [
    {
     "data": {
      "text/plain": [
       "['outputs/linguist/README.md',\n",
       " 'outputs/linguist/CONTRIBUTING.md',\n",
       " 'outputs/linguist/test/fixtures/Data/Modelines/example_smalltalk.md',\n",
       " 'outputs/linguist/samples/GCC Machine Description/pdp10.md',\n",
       " 'outputs/linguist/samples/Markdown/tender.md',\n",
       " 'outputs/linguist/vendor/grammars/Sublime-Inform/README.md',\n",
       " 'outputs/linguist/vendor/grammars/less.tmbundle/README.md',\n",
       " 'outputs/test-repo1/2016-02-24-first-post.md',\n",
       " 'outputs/test-repo1/2016-02-26-sample-post-jekyll.md',\n",
       " 'outputs/test-repo1/2015-04-12-test-post-last-year.md',\n",
       " 'outputs/CT-shapefiles/LICENSE.md',\n",
       " 'outputs/CT-shapefiles/CT_precincts.zip',\n",
       " 'outputs/CT-shapefiles/README.md',\n",
       " 'outputs/git-consortium/product-backlog.md',\n",
       " 'outputs/git-consortium/README.md',\n",
       " 'outputs/Spoon-Knife/README.md',\n",
       " 'outputs/boysenberry-repo-1/README.md',\n",
       " 'outputs/boysenberry-repo-1/READTHIS.md',\n",
       " 'outputs/hello-worId/README.md']"
      ]
     },
     "execution_count": 12,
     "metadata": {},
     "output_type": "execute_result"
    }
   ],
   "source": [
    "# Ex. 4.3.\n",
    "\n",
    "zips_and_mds = dm.list_files_of_type(['.zip', '.md'], 'outputs/')\n",
    "zips_and_mds"
   ]
  },
  {
   "cell_type": "markdown",
   "metadata": {},
   "source": [
    "__Example 4.4.__ Recursively list files of a given type from current working directory, including hidden files"
   ]
  },
  {
   "cell_type": "code",
   "execution_count": 13,
   "metadata": {},
   "outputs": [
    {
     "data": {
      "text/plain": [
       "['./.example-hidden-file.zip',\n",
       " './AK-shapefiles/AK_precincts.zip',\n",
       " './AZ-shapefiles/az_precincts.zip',\n",
       " './example-inputs/example.zip',\n",
       " './example-inputs/counties.zip',\n",
       " './outputs/CT-shapefiles/CT_precincts.zip']"
      ]
     },
     "execution_count": 13,
     "metadata": {},
     "output_type": "execute_result"
    }
   ],
   "source": [
    "# Ex. 4.4.\n",
    "\n",
    "files_incl_hidden = dm.list_files_of_type('.zip', exclude_hidden=False)\n",
    "files_incl_hidden"
   ]
  },
  {
   "cell_type": "markdown",
   "metadata": {},
   "source": [
    "Example 5. Get a list of keys from a nested (categorized) dictionary\n",
    "-------------------------------------------------------------------------------"
   ]
  },
  {
   "cell_type": "code",
   "execution_count": 14,
   "metadata": {},
   "outputs": [],
   "source": [
    "# Example nested dictionary\n",
    "example_dict = {\n",
    "    'category1' : [ # category\n",
    "        {'key1_1' : 'value1'}, # key-value pair\n",
    "        {'key1_2' : 2}\n",
    "    ],\n",
    "    'category2' : [\n",
    "        {'key2_1' : True},\n",
    "        ['key2_2', 'key2_3', 'key2_4'] # list of keys\n",
    "    ],\n",
    "    'category3' : [\n",
    "        ['key3']\n",
    "    ]\n",
    "}"
   ]
  },
  {
   "cell_type": "markdown",
   "metadata": {},
   "source": [
    "__Example 5.1.__ Get a list of keys from a single category"
   ]
  },
  {
   "cell_type": "code",
   "execution_count": 15,
   "metadata": {},
   "outputs": [
    {
     "data": {
      "text/plain": [
       "['key2_1', 'key2_2', 'key2_3', 'key2_4']"
      ]
     },
     "execution_count": 15,
     "metadata": {},
     "output_type": "execute_result"
    }
   ],
   "source": [
    "keys = dm.get_keys_by_category(example_dict, 'category2')\n",
    "keys"
   ]
  },
  {
   "cell_type": "markdown",
   "metadata": {},
   "source": [
    "__Example 5.2.__ Get a list of keys from a list of categories"
   ]
  },
  {
   "cell_type": "code",
   "execution_count": 16,
   "metadata": {},
   "outputs": [
    {
     "data": {
      "text/plain": [
       "['key1_1', 'key1_2', 'key3']"
      ]
     },
     "execution_count": 16,
     "metadata": {},
     "output_type": "execute_result"
    }
   ],
   "source": [
    "keys = dm.get_keys_by_category(example_dict, ['category1', 'category3'])\n",
    "keys"
   ]
  },
  {
   "cell_type": "markdown",
   "metadata": {},
   "source": [
    "Example 6. Remove repos from local filesystem\n",
    "--------------------------------------------------------\n",
    "\n",
    "__Example 6.1.__ Remove a specific repository"
   ]
  },
  {
   "cell_type": "code",
   "execution_count": 17,
   "metadata": {},
   "outputs": [],
   "source": [
    "# Ex. 6.1.\n",
    "\n",
    "path_to_repo_to_remove = 'outputs/Hello-World'\n",
    "dm.remove_repos(path_to_repo_to_remove)"
   ]
  },
  {
   "cell_type": "markdown",
   "metadata": {},
   "source": [
    "__Example 6.2.__ Recursively remove all repos in a directory"
   ]
  },
  {
   "cell_type": "code",
   "execution_count": 18,
   "metadata": {},
   "outputs": [],
   "source": [
    "# Ex. 6.2.\n",
    "\n",
    "dm.remove_repos('outputs/')"
   ]
  },
  {
   "cell_type": "markdown",
   "metadata": {},
   "source": [
    "---\n",
    "\n",
    "__Examples Cleanup__\n",
    "\n",
    "The following commands are used to reset and clean up the examples above."
   ]
  },
  {
   "cell_type": "code",
   "execution_count": 19,
   "metadata": {},
   "outputs": [],
   "source": [
    "# Remove all cloned repos\n",
    "dm.remove_repos('.')"
   ]
  },
  {
   "cell_type": "code",
   "execution_count": 20,
   "metadata": {},
   "outputs": [],
   "source": [
    "# Remove outputs\n",
    "!rm -r outputs"
   ]
  },
  {
   "cell_type": "code",
   "execution_count": 21,
   "metadata": {},
   "outputs": [],
   "source": [
    "# Uninstall Package\n",
    "!echo y | pip uninstall gdutils"
   ]
  },
  {
   "cell_type": "code",
   "execution_count": 22,
   "metadata": {},
   "outputs": [],
   "source": [
    "# Reset Jupyter Notebook IPython Kernel\n",
    "from IPython.core.display import HTML\n",
    "HTML(\"<script>Jupyter.notebook.kernel.restart()</script>\")"
   ]
  }
 ],
 "metadata": {
  "kernelspec": {
   "display_name": "Python 3",
   "language": "python",
   "name": "python3"
  },
  "language_info": {
   "codemirror_mode": {
    "name": "ipython",
    "version": 3
   },
   "file_extension": ".py",
   "mimetype": "text/x-python",
   "name": "python",
   "nbconvert_exporter": "python",
   "pygments_lexer": "ipython3",
   "version": "3.8.5"
  }
 },
 "nbformat": 4,
 "nbformat_minor": 4
}
