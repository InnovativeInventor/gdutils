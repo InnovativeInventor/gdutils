{
 "cells": [
  {
   "cell_type": "markdown",
   "metadata": {},
   "source": [
    "extract.ExtractTable\n",
    "================"
   ]
  },
  {
   "cell_type": "markdown",
   "metadata": {},
   "source": [
    "`ExtractTable` is a `class` in module `extract`, which provides methods for extracting data from tabular data sources."
   ]
  },
  {
   "cell_type": "markdown",
   "metadata": {},
   "source": [
    "\n",
    "#### Examples Setup\n",
    "\n",
    "The following commands are used for setting up the interative examples below. \n",
    "\n",
    "*Note:* The example input files were pulled and converted from the GeoJSON [link](http://d2ad6b4ur7yvpq.cloudfront.net/naturalearth-3.3.0/ne_110m_land.geojson) provided in the [``geopandas`` IO docs](https://geopandas.org/io.html)."
   ]
  },
  {
   "cell_type": "code",
   "execution_count": null,
   "metadata": {},
   "outputs": [],
   "source": [
    "# Jupyter Notebook Setup\n",
    "!conda install -c conda-forge pandoc > /dev/null\n",
    "!pip install -r ../../../../requirements.txt --user > /dev/null"
   ]
  },
  {
   "cell_type": "code",
   "execution_count": null,
   "metadata": {},
   "outputs": [],
   "source": [
    "# Module Installation\n",
    "!git clone https://github.com/KeiferC/extract-table.git > /dev/null\n",
    "!pip install -r extract-table/requirements.txt --user > /dev/null"
   ]
  },
  {
   "cell_type": "markdown",
   "metadata": {},
   "source": [
    "## Module Usage Examples\n",
    "\n",
    "---"
   ]
  },
  {
   "cell_type": "code",
   "execution_count": null,
   "metadata": {},
   "outputs": [],
   "source": [
    "import os\n",
    "import sys\n",
    "sys.path.insert(0, os.path.abspath('../../../..'))"
   ]
  },
  {
   "cell_type": "code",
   "execution_count": null,
   "metadata": {},
   "outputs": [],
   "source": [
    "from extract import ExtractTable # import class from module\n",
    "\n",
    "import geopandas as gpd\n",
    "import pandas as pd"
   ]
  },
  {
   "cell_type": "markdown",
   "metadata": {},
   "source": [
    "### Example 1. Extract a table (returns a `geopandas GeoDataFrame`)\n",
    "#### Example 1.1. Extract a table from a file\n",
    "- __Example 1.1.1.__ Extract from a shapefile"
   ]
  },
  {
   "cell_type": "code",
   "execution_count": null,
   "metadata": {},
   "outputs": [],
   "source": [
    "# Ex. 1.1.1\n",
    "\n",
    "shp_path = 'example-inputs/example-shp/example.shp' # path to file containing table to extract\n",
    "shp_et = ExtractTable(shp_path) # alternative: ExtractTable.read_file(filepath)\n",
    "shp_gdf = shp_et.extract() # extracts table as a geopandas GeoDataframe\n",
    "\n",
    "# Resulting GeoDataFrame:\n",
    "#\n",
    "#    scalerank featurecla                                           geometry\n",
    "# 0          1    Country  POLYGON ((-59.57209 -80.04018, -59.86585 -80.5...\n",
    "# 1          1    Country  POLYGON ((-159.20818 -79.49706, -161.12760 -79...\n",
    "# 2          1    Country  POLYGON ((-45.15476 -78.04707, -43.92083 -78.4...\n",
    "# 3          1    Country  POLYGON ((-121.21151 -73.50099, -119.91885 -73...\n",
    "# 4          1    Country  POLYGON ((-125.55957 -73.48135, -124.03188 -73...\n",
    "# ..."
   ]
  },
  {
   "cell_type": "markdown",
   "metadata": {},
   "source": [
    "- __Example 1.1.2.__ Extract from a CSV"
   ]
  },
  {
   "cell_type": "code",
   "execution_count": null,
   "metadata": {},
   "outputs": [],
   "source": [
    "# Ex. 1.1.2\n",
    "\n",
    "csv_path = 'example-inputs/example.csv'\n",
    "csv_et = ExtractTable.read_file(csv_path) # using alternative\n",
    "csv_gdf = csv_et.extract()\n",
    "\n",
    "# Resulting GeoDataFrame:\n",
    "#\n",
    "#    scalerank featurecla                                           geometry\n",
    "# 0          1    Country  POLYGON ((-59.57209 -80.04018, -59.86585 -80.5...\n",
    "# 1          1    Country  POLYGON ((-159.20818 -79.49706, -161.12760 -79...\n",
    "# 2          1    Country  POLYGON ((-45.15476 -78.04707, -43.92083 -78.4...\n",
    "# 3          1    Country  POLYGON ((-121.21151 -73.50099, -119.91885 -73...\n",
    "# 4          1    Country  POLYGON ((-125.55957 -73.48135, -124.03188 -73...\n",
    "# ..."
   ]
  },
  {
   "cell_type": "markdown",
   "metadata": {},
   "source": [
    "- __Example 1.1.3.__ Extract from an Excel file"
   ]
  },
  {
   "cell_type": "code",
   "execution_count": null,
   "metadata": {},
   "outputs": [],
   "source": [
    "# Ex. 1.1.3\n",
    "\n",
    "excel_path = 'example-inputs/example.csv'\n",
    "excel_gdf = ExtractTable.read_file(excel_path).extract() # shorthand equivalent\n",
    "\n",
    "# Resulting GeoDataFrame:\n",
    "#\n",
    "#    scalerank featurecla                                           geometry\n",
    "# 0          1    Country  POLYGON ((-59.57209 -80.04018, -59.86585 -80.5...\n",
    "# 1          1    Country  POLYGON ((-159.20818 -79.49706, -161.12760 -79...\n",
    "# 2          1    Country  POLYGON ((-45.15476 -78.04707, -43.92083 -78.4...\n",
    "# 3          1    Country  POLYGON ((-121.21151 -73.50099, -119.91885 -73...\n",
    "# 4          1    Country  POLYGON ((-125.55957 -73.48135, -124.03188 -73...\n",
    "# ..."
   ]
  },
  {
   "cell_type": "markdown",
   "metadata": {},
   "source": [
    "- __Example 1.1.4.__ Extract from a ZIP file"
   ]
  },
  {
   "cell_type": "code",
   "execution_count": null,
   "metadata": {},
   "outputs": [],
   "source": [
    "# Ex. 1.1.4\n",
    "\n",
    "zip_path = 'example-inputs/example.zip'\n",
    "zip_gdf = ExtractTable.read_file(zip_path).extract()\n",
    "\n",
    "# Resulting GeoDataFrame:\n",
    "#\n",
    "#    scalerank featurecla                                           geometry\n",
    "# 0          1    Country  POLYGON ((-59.57209 -80.04018, -59.86585 -80.5...\n",
    "# 1          1    Country  POLYGON ((-159.20818 -79.49706, -161.12760 -79...\n",
    "# 2          1    Country  POLYGON ((-45.15476 -78.04707, -43.92083 -78.4...\n",
    "# 3          1    Country  POLYGON ((-121.21151 -73.50099, -119.91885 -73...\n",
    "# 4          1    Country  POLYGON ((-125.55957 -73.48135, -124.03188 -73...\n",
    "# ..."
   ]
  },
  {
   "cell_type": "markdown",
   "metadata": {},
   "source": [
    "#### Example 1.2. Extract a table from a URL"
   ]
  },
  {
   "cell_type": "code",
   "execution_count": null,
   "metadata": {},
   "outputs": [],
   "source": [
    "# Ex. 1.2\n",
    "\n",
    "url = 'http://d2ad6b4ur7yvpq.cloudfront.net/naturalearth-3.3.0/ne_110m_land.geojson' \n",
    "    # URL copied from https://geopandas.org/io.html\n",
    "url_gdf = ExtractTable(url).extract()\n",
    "\n",
    "# Resulting GeoDataFrame:\n",
    "#\n",
    "#    scalerank featurecla                                           geometry\n",
    "# 0          1    Country  POLYGON ((-59.57209 -80.04018, -59.86585 -80.5...\n",
    "# 1          1    Country  POLYGON ((-159.20818 -79.49706, -161.12760 -79...\n",
    "# 2          1    Country  POLYGON ((-45.15476 -78.04707, -43.92083 -78.4...\n",
    "# 3          1    Country  POLYGON ((-121.21151 -73.50099, -119.91885 -73...\n",
    "# 4          1    Country  POLYGON ((-125.55957 -73.48135, -124.03188 -73...\n",
    "# ..."
   ]
  },
  {
   "cell_type": "markdown",
   "metadata": {},
   "source": [
    "#### Example 1.3. Extract a table from a `pandas DataFrame`"
   ]
  },
  {
   "cell_type": "code",
   "execution_count": null,
   "metadata": {},
   "outputs": [],
   "source": [
    "# Ex. 1.3\n",
    "\n",
    "pandas_df = pd.read_csv(csv_path)\n",
    "pandas_gdf = ExtractTable(pandas_df).extract()\n",
    "\n",
    "# Resulting GeoDataFrame:\n",
    "#\n",
    "#    scalerank featurecla                                           geometry\n",
    "# 0          1    Country  POLYGON ((-59.57209 -80.04018, -59.86585 -80.5...\n",
    "# 1          1    Country  POLYGON ((-159.20818 -79.49706, -161.12760 -79...\n",
    "# 2          1    Country  POLYGON ((-45.15476 -78.04707, -43.92083 -78.4...\n",
    "# 3          1    Country  POLYGON ((-121.21151 -73.50099, -119.91885 -73...\n",
    "# 4          1    Country  POLYGON ((-125.55957 -73.48135, -124.03188 -73...\n",
    "# ..."
   ]
  },
  {
   "cell_type": "markdown",
   "metadata": {},
   "source": [
    "#### Example 1.4. Extract a table from a `geopandas GeoDataFrame`"
   ]
  },
  {
   "cell_type": "code",
   "execution_count": null,
   "metadata": {},
   "outputs": [],
   "source": [
    "# Ex. 1.4\n",
    "\n",
    "geopandas_gdf = ExtractTable(csv_gdf).extract()\n",
    "\n",
    "# Resulting GeoDataFrame:\n",
    "#\n",
    "#    scalerank featurecla                                           geometry\n",
    "# 0          1    Country  POLYGON ((-59.57209 -80.04018, -59.86585 -80.5...\n",
    "# 1          1    Country  POLYGON ((-159.20818 -79.49706, -161.12760 -79...\n",
    "# 2          1    Country  POLYGON ((-45.15476 -78.04707, -43.92083 -78.4...\n",
    "# 3          1    Country  POLYGON ((-121.21151 -73.50099, -119.91885 -73...\n",
    "# 4          1    Country  POLYGON ((-125.55957 -73.48135, -124.03188 -73...\n",
    "# ..."
   ]
  },
  {
   "cell_type": "markdown",
   "metadata": {},
   "source": [
    "### Example 2. Extract a table with a selected column as the index\n",
    "#### Example 2.1. Extract a table with a known column label"
   ]
  },
  {
   "cell_type": "code",
   "execution_count": null,
   "metadata": {},
   "outputs": [],
   "source": [
    "# Ex. 2.1\n",
    "\n",
    "known_column = 'featurecla'\n",
    "known_column_gdf = ExtractTable(shp_path, column=known_column).extract() \n",
    "    # alternative: ExtractTable.read_file(shp_path, column=known_column)\n",
    "\n",
    "# Resulting GeoDataFrame:\n",
    "#\n",
    "#             scalerank                                           geometry\n",
    "# featurecla                                                              \n",
    "# Country             1  POLYGON ((-59.57209 -80.04018, -59.86585 -80.5...\n",
    "# Country             1  POLYGON ((-159.20818 -79.49706, -161.12760 -79...\n",
    "# Country             1  POLYGON ((-45.15476 -78.04707, -43.92083 -78.4...\n",
    "# Country             1  POLYGON ((-121.21151 -73.50099, -119.91885 -73...\n",
    "# Country             1  POLYGON ((-125.55957 -73.48135, -124.03188 -73...\n",
    "# ..."
   ]
  },
  {
   "cell_type": "markdown",
   "metadata": {},
   "source": [
    "#### Example 2.2. Extract a table without a known column label"
   ]
  },
  {
   "cell_type": "code",
   "execution_count": null,
   "metadata": {},
   "outputs": [],
   "source": [
    "# Ex. 2.2\n",
    "\n",
    "unknown_column_et = ExtractTable(shp_path)\n",
    "columns_list = unknown_column_et.list_columns() # returns a list of columns from which to choose\n",
    "print(columns_list)"
   ]
  },
  {
   "cell_type": "code",
   "execution_count": null,
   "metadata": {},
   "outputs": [],
   "source": [
    "unknown_column_et.column = 'scalerank' # selects the 'scalerank' column as the index\n",
    "\n",
    "unknown_column_gdf = unknown_column_et.extract()\n",
    "\n",
    "# Resulting GeoDataFrame:\n",
    "#\n",
    "#           featurecla                                           geometry\n",
    "# scalerank                                                              \n",
    "# 1            Country  POLYGON ((-59.57209 -80.04018, -59.86585 -80.5...\n",
    "# 1            Country  POLYGON ((-159.20818 -79.49706, -161.12760 -79...\n",
    "# 1            Country  POLYGON ((-45.15476 -78.04707, -43.92083 -78.4...\n",
    "# 1            Country  POLYGON ((-121.21151 -73.50099, -119.91885 -73...\n",
    "# 1            Country  POLYGON ((-125.55957 -73.48135, -124.03188 -73...\n",
    "# ..."
   ]
  },
  {
   "cell_type": "markdown",
   "metadata": {},
   "source": [
    "### Example 3. Extract a subtable\n",
    "#### Example 3.1. Extract a subtable with a known column value"
   ]
  },
  {
   "cell_type": "code",
   "execution_count": null,
   "metadata": {},
   "outputs": [],
   "source": [
    "# Ex. 3.1\n",
    "\n"
   ]
  },
  {
   "cell_type": "markdown",
   "metadata": {},
   "source": [
    "#### Example 3.2. Extract a subtable with multiple known column values"
   ]
  },
  {
   "cell_type": "code",
   "execution_count": null,
   "metadata": {},
   "outputs": [],
   "source": [
    "# Ex. 3.2\n",
    "\n"
   ]
  },
  {
   "cell_type": "markdown",
   "metadata": {},
   "source": [
    "#### Example 3.3. Extract a subtable without a known column value"
   ]
  },
  {
   "cell_type": "code",
   "execution_count": null,
   "metadata": {},
   "outputs": [],
   "source": [
    "# Ex. 3.3\n",
    "\n"
   ]
  },
  {
   "cell_type": "markdown",
   "metadata": {},
   "source": [
    "### Example 4. Extract a table to a file"
   ]
  },
  {
   "cell_type": "code",
   "execution_count": null,
   "metadata": {},
   "outputs": [],
   "source": [
    "# Ex. 4.\n",
    "\n"
   ]
  },
  {
   "cell_type": "markdown",
   "metadata": {},
   "source": [
    "---\n",
    "\n",
    "#### Examples Cleanup\n",
    "\n",
    "The following command is used to reset and clean up the interactive examples above."
   ]
  },
  {
   "cell_type": "code",
   "execution_count": null,
   "metadata": {},
   "outputs": [],
   "source": []
  },
  {
   "cell_type": "code",
   "execution_count": null,
   "metadata": {},
   "outputs": [],
   "source": [
    "# Remove Installed Module\n",
    "!echo \"y\" | rm -r extract-table"
   ]
  },
  {
   "cell_type": "code",
   "execution_count": null,
   "metadata": {},
   "outputs": [],
   "source": [
    "# Reset Jupyter Notebook IPython Kernel\n",
    "from IPython.core.display import HTML, clear_output\n",
    "clear_output(wait=False)\n",
    "HTML(\"<script>Jupyter.notebook.kernel.restart()</script>\")"
   ]
  },
  {
   "cell_type": "code",
   "execution_count": null,
   "metadata": {},
   "outputs": [],
   "source": []
  }
 ],
 "metadata": {
  "kernelspec": {
   "display_name": "Python 3",
   "language": "python",
   "name": "python3"
  },
  "language_info": {
   "codemirror_mode": {
    "name": "ipython",
    "version": 3
   },
   "file_extension": ".py",
   "mimetype": "text/x-python",
   "name": "python",
   "nbconvert_exporter": "python",
   "pygments_lexer": "ipython3",
   "version": "3.7.7"
  }
 },
 "nbformat": 4,
 "nbformat_minor": 4
}
