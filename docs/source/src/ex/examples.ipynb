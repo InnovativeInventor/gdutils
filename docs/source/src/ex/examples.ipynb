{
 "cells": [
  {
   "cell_type": "markdown",
   "metadata": {},
   "source": [
    "extract.ExtractTable\n",
    "================"
   ]
  },
  {
   "cell_type": "markdown",
   "metadata": {},
   "source": [
    "`ExtractTable` is a `class` in module `extract`, which provides methods for extracting data from tabular data sources."
   ]
  },
  {
   "cell_type": "markdown",
   "metadata": {},
   "source": [
    "---\n",
    "\n",
    "__Examples Setup__\n",
    "\n",
    "The following commands are used for setting up the examples below. \n",
    "\n",
    "*Note:* The example input files were pulled and converted from the GeoJSON [link](http://d2ad6b4ur7yvpq.cloudfront.net/naturalearth-3.3.0/ne_110m_land.geojson) provided in the [geopandas IO docs](https://geopandas.org/io.html)."
   ]
  },
  {
   "cell_type": "code",
   "execution_count": 2,
   "metadata": {},
   "outputs": [],
   "source": [
    "# Jupyter Notebook Setup\n",
    "!pip install -r ../../../../requirements.txt --user > /dev/null"
   ]
  },
  {
   "cell_type": "code",
   "execution_count": 3,
   "metadata": {},
   "outputs": [
    {
     "name": "stdout",
     "output_type": "stream",
     "text": [
      "Cloning into 'extract-table'...\n",
      "remote: Enumerating objects: 291, done.\u001b[K\n",
      "remote: Counting objects: 100% (291/291), done.\u001b[K\n",
      "remote: Compressing objects: 100% (175/175), done.\u001b[K\n",
      "remote: Total 291 (delta 125), reused 260 (delta 95), pack-reused 0\u001b[K\n",
      "Receiving objects: 100% (291/291), 274.56 KiB | 1.16 MiB/s, done.\n",
      "Resolving deltas: 100% (125/125), done.\n"
     ]
    }
   ],
   "source": [
    "# Module Installation\n",
    "!git clone https://github.com/KeiferC/extract-table.git > /dev/null\n",
    "!pip install -r extract-table/requirements.txt --user > /dev/null"
   ]
  },
  {
   "cell_type": "code",
   "execution_count": 12,
   "metadata": {},
   "outputs": [],
   "source": [
    "# Sets path to module\n",
    "import os\n",
    "import sys\n",
    "sys.path.insert(0, os.path.abspath('.'))"
   ]
  },
  {
   "cell_type": "code",
   "execution_count": 13,
   "metadata": {},
   "outputs": [],
   "source": [
    "from extract import ExtractTable # import class from module\n",
    "\n",
    "import geopandas as gpd\n",
    "import pandas as pd"
   ]
  },
  {
   "cell_type": "markdown",
   "metadata": {},
   "source": [
    "---\n",
    "\n",
    "Example 1. Extract a table \n",
    "-------------------------------\n",
    "\n",
    "*Note*: returns a ``geopandas GeoDataFrame``\n",
    "\n",
    "__Example 1.1.__ Extract a table from a file\n",
    "\n",
    "\n",
    "- Example 1.1.1. Extract from a shapefile"
   ]
  },
  {
   "cell_type": "code",
   "execution_count": 15,
   "metadata": {},
   "outputs": [
    {
     "data": {
      "text/html": [
       "<div>\n",
       "<style scoped>\n",
       "    .dataframe tbody tr th:only-of-type {\n",
       "        vertical-align: middle;\n",
       "    }\n",
       "\n",
       "    .dataframe tbody tr th {\n",
       "        vertical-align: top;\n",
       "    }\n",
       "\n",
       "    .dataframe thead th {\n",
       "        text-align: right;\n",
       "    }\n",
       "</style>\n",
       "<table border=\"1\" class=\"dataframe\">\n",
       "  <thead>\n",
       "    <tr style=\"text-align: right;\">\n",
       "      <th></th>\n",
       "      <th>scalerank</th>\n",
       "      <th>featurecla</th>\n",
       "      <th>geometry</th>\n",
       "    </tr>\n",
       "  </thead>\n",
       "  <tbody>\n",
       "    <tr>\n",
       "      <th>0</th>\n",
       "      <td>1</td>\n",
       "      <td>Country</td>\n",
       "      <td>POLYGON ((-59.57209 -80.04018, -59.86585 -80.5...</td>\n",
       "    </tr>\n",
       "    <tr>\n",
       "      <th>1</th>\n",
       "      <td>1</td>\n",
       "      <td>Country</td>\n",
       "      <td>POLYGON ((-159.20818 -79.49706, -161.12760 -79...</td>\n",
       "    </tr>\n",
       "    <tr>\n",
       "      <th>2</th>\n",
       "      <td>1</td>\n",
       "      <td>Country</td>\n",
       "      <td>POLYGON ((-45.15476 -78.04707, -43.92083 -78.4...</td>\n",
       "    </tr>\n",
       "    <tr>\n",
       "      <th>3</th>\n",
       "      <td>1</td>\n",
       "      <td>Country</td>\n",
       "      <td>POLYGON ((-121.21151 -73.50099, -119.91885 -73...</td>\n",
       "    </tr>\n",
       "    <tr>\n",
       "      <th>4</th>\n",
       "      <td>1</td>\n",
       "      <td>Country</td>\n",
       "      <td>POLYGON ((-125.55957 -73.48135, -124.03188 -73...</td>\n",
       "    </tr>\n",
       "  </tbody>\n",
       "</table>\n",
       "</div>"
      ],
      "text/plain": [
       "   scalerank featurecla                                           geometry\n",
       "0          1    Country  POLYGON ((-59.57209 -80.04018, -59.86585 -80.5...\n",
       "1          1    Country  POLYGON ((-159.20818 -79.49706, -161.12760 -79...\n",
       "2          1    Country  POLYGON ((-45.15476 -78.04707, -43.92083 -78.4...\n",
       "3          1    Country  POLYGON ((-121.21151 -73.50099, -119.91885 -73...\n",
       "4          1    Country  POLYGON ((-125.55957 -73.48135, -124.03188 -73..."
      ]
     },
     "execution_count": 15,
     "metadata": {},
     "output_type": "execute_result"
    }
   ],
   "source": [
    "# Ex. 1.1.1\n",
    "\n",
    "shp_path = 'example-inputs/example-shp/example.shp' # path to file containing table to extract\n",
    "shp_et = ExtractTable(shp_path) # alternative: ExtractTable.read_file(filepath)\n",
    "shp_gdf = shp_et.extract() # extracts table as a geopandas GeoDataframe\n",
    "\n",
    "shp_gdf.head() # renders first 5 rows of table"
   ]
  },
  {
   "cell_type": "markdown",
   "metadata": {},
   "source": [
    "- Example 1.1.2. Extract from a CSV"
   ]
  },
  {
   "cell_type": "code",
   "execution_count": null,
   "metadata": {},
   "outputs": [],
   "source": [
    "# Ex. 1.1.2\n",
    "\n",
    "csv_path = 'example-inputs/example.csv'\n",
    "csv_et = ExtractTable.read_file(csv_path) # using alternative\n",
    "csv_gdf = csv_et.extract()\n",
    "\n",
    "csv_gdf.head()"
   ]
  },
  {
   "cell_type": "markdown",
   "metadata": {},
   "source": [
    "- Example 1.1.3. Extract from an Excel file"
   ]
  },
  {
   "cell_type": "code",
   "execution_count": null,
   "metadata": {},
   "outputs": [],
   "source": [
    "# Ex. 1.1.3\n",
    "\n",
    "excel_path = 'example-inputs/example.csv'\n",
    "excel_gdf = ExtractTable.read_file(excel_path).extract() # shorthand equivalent\n",
    "\n",
    "excel_gdf.head()"
   ]
  },
  {
   "cell_type": "markdown",
   "metadata": {},
   "source": [
    "- Example 1.1.4. Extract from a ZIP file"
   ]
  },
  {
   "cell_type": "code",
   "execution_count": null,
   "metadata": {},
   "outputs": [],
   "source": [
    "# Ex. 1.1.4\n",
    "\n",
    "zip_path = 'example-inputs/example.zip'\n",
    "zip_gdf = ExtractTable.read_file(zip_path).extract()\n",
    "\n",
    "zip_gdf.head()"
   ]
  },
  {
   "cell_type": "markdown",
   "metadata": {},
   "source": [
    "__Example 1.2.__ Extract a table from a URL"
   ]
  },
  {
   "cell_type": "code",
   "execution_count": null,
   "metadata": {},
   "outputs": [],
   "source": [
    "# Ex. 1.2\n",
    "\n",
    "url = 'http://d2ad6b4ur7yvpq.cloudfront.net/naturalearth-3.3.0/ne_110m_land.geojson' \n",
    "    # URL copied from https://geopandas.org/io.html\n",
    "url_gdf = ExtractTable(url).extract()\n",
    "\n",
    "url_gdf.head()"
   ]
  },
  {
   "cell_type": "markdown",
   "metadata": {},
   "source": [
    "__Example 1.3.__ Extract a table from a `pandas DataFrame`"
   ]
  },
  {
   "cell_type": "code",
   "execution_count": null,
   "metadata": {},
   "outputs": [],
   "source": [
    "# Ex. 1.3\n",
    "\n",
    "pandas_df = pd.read_csv(csv_path)\n",
    "pandas_gdf = ExtractTable(pandas_df).extract()\n",
    "\n",
    "pandas_gdf.head()"
   ]
  },
  {
   "cell_type": "markdown",
   "metadata": {},
   "source": [
    "__Example 1.4.__ Extract a table from a `geopandas GeoDataFrame`"
   ]
  },
  {
   "cell_type": "code",
   "execution_count": null,
   "metadata": {},
   "outputs": [],
   "source": [
    "# Ex. 1.4\n",
    "\n",
    "geopandas_gdf = ExtractTable(csv_gdf).extract()\n",
    "\n",
    "geopandas_gdf.head()"
   ]
  },
  {
   "cell_type": "markdown",
   "metadata": {},
   "source": [
    "Example 2. Extract a table with a selected index\n",
    "-------------------------------------------------------------------------\n",
    "\n",
    "__Example 2.1.__ Extract a table with a known column label as the index"
   ]
  },
  {
   "cell_type": "code",
   "execution_count": null,
   "metadata": {},
   "outputs": [],
   "source": [
    "# Ex. 2.1\n",
    "\n",
    "known_column = 'featurecla'\n",
    "known_column_gdf = ExtractTable(shp_path, column=known_column).extract() \n",
    "    # alternative: ExtractTable.read_file(shp_path, column=known_column)\n",
    "\n",
    "known_column_gdf.head()"
   ]
  },
  {
   "cell_type": "markdown",
   "metadata": {},
   "source": [
    "__Example 2.2.__ Extract a table without a known column label as the index"
   ]
  },
  {
   "cell_type": "code",
   "execution_count": null,
   "metadata": {},
   "outputs": [],
   "source": [
    "# Ex. 2.2\n",
    "\n",
    "unknown_column_et = ExtractTable(shp_path)\n",
    "columns_list = unknown_column_et.list_columns() # returns a list of columns from which to choose\n",
    "print(columns_list)"
   ]
  },
  {
   "cell_type": "code",
   "execution_count": null,
   "metadata": {},
   "outputs": [],
   "source": [
    "unknown_column_et.column = 'scalerank' # selects the 'scalerank' column as the index\n",
    "\n",
    "unknown_column_gdf = unknown_column_et.extract()\n",
    "\n",
    "unknown_column_gdf.head()"
   ]
  },
  {
   "cell_type": "markdown",
   "metadata": {},
   "source": [
    "Example 3. Extract a subtable\n",
    "-----------------------------------\n",
    "\n",
    "__Example 3.1.__ Extract a subtable with a known column value"
   ]
  },
  {
   "cell_type": "code",
   "execution_count": null,
   "metadata": {},
   "outputs": [],
   "source": [
    "# Ex. 3.1\n",
    "\n"
   ]
  },
  {
   "cell_type": "markdown",
   "metadata": {},
   "source": [
    "__Example 3.2.__ Extract a subtable with multiple known column values"
   ]
  },
  {
   "cell_type": "code",
   "execution_count": null,
   "metadata": {},
   "outputs": [],
   "source": [
    "# Ex. 3.2\n",
    "\n"
   ]
  },
  {
   "cell_type": "markdown",
   "metadata": {},
   "source": [
    "__Example 3.3.__ Extract a subtable without a known column value"
   ]
  },
  {
   "cell_type": "code",
   "execution_count": null,
   "metadata": {},
   "outputs": [],
   "source": [
    "# Ex. 3.3\n",
    "\n"
   ]
  },
  {
   "cell_type": "markdown",
   "metadata": {},
   "source": [
    "Example 4. Extract to a file\n",
    "-------------------------------"
   ]
  },
  {
   "cell_type": "code",
   "execution_count": null,
   "metadata": {},
   "outputs": [],
   "source": [
    "# Ex. 4.\n",
    "\n"
   ]
  },
  {
   "cell_type": "markdown",
   "metadata": {},
   "source": [
    "---\n",
    "\n",
    "__Examples Cleanup__\n",
    "\n",
    "The following command is used to reset and clean up the interactive examples above."
   ]
  },
  {
   "cell_type": "code",
   "execution_count": null,
   "metadata": {},
   "outputs": [],
   "source": [
    "# Remove Installed Module\n",
    "!echo \"y\" | rm -r extract-table"
   ]
  },
  {
   "cell_type": "code",
   "execution_count": null,
   "metadata": {},
   "outputs": [],
   "source": [
    "# Reset Jupyter Notebook IPython Kernel\n",
    "from IPython.core.display import HTML\n",
    "HTML(\"<script>Jupyter.notebook.kernel.restart()</script>\")"
   ]
  }
 ],
 "metadata": {
  "kernelspec": {
   "display_name": "Python 3",
   "language": "python",
   "name": "python3"
  },
  "language_info": {
   "codemirror_mode": {
    "name": "ipython",
    "version": 3
   },
   "file_extension": ".py",
   "mimetype": "text/x-python",
   "name": "python",
   "nbconvert_exporter": "python",
   "pygments_lexer": "ipython3",
   "version": "3.7.7"
  }
 },
 "nbformat": 4,
 "nbformat_minor": 4
}
