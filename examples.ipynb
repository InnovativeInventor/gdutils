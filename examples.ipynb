{
 "cells": [
  {
   "cell_type": "markdown",
   "metadata": {},
   "source": [
    "# `extract` Module Usage Examples"
   ]
  },
  {
   "cell_type": "markdown",
   "metadata": {},
   "source": [
    "## Installation\n",
    "---\n",
    "To install the `extract` module, clone the repository by running:"
   ]
  },
  {
   "cell_type": "code",
   "execution_count": null,
   "metadata": {},
   "outputs": [],
   "source": [
    "#!git clone https://github.com/KeiferC/extract-table.git"
   ]
  },
  {
   "cell_type": "markdown",
   "metadata": {},
   "source": [
    "### Installing Dependencies\n",
    "The `extract` module uses the `numpy`, `pandas`, and `geopandas` packages, which may or may not be installed on your machine."
   ]
  },
  {
   "cell_type": "markdown",
   "metadata": {},
   "source": [
    "To automatically install the dependencies run:"
   ]
  },
  {
   "cell_type": "code",
   "execution_count": null,
   "metadata": {},
   "outputs": [],
   "source": [
    "!pip install -r requirements.txt"
   ]
  },
  {
   "cell_type": "markdown",
   "metadata": {},
   "source": [
    "Alternatively, you can manually install the dependecies by running:"
   ]
  },
  {
   "cell_type": "code",
   "execution_count": 37,
   "metadata": {},
   "outputs": [
    {
     "name": "stdout",
     "output_type": "stream",
     "text": [
      "Requirement already satisfied: numpy in /usr/local/lib/python3.7/site-packages (1.16.2)\n",
      "Requirement already satisfied: pandas in /usr/local/lib/python3.7/site-packages (1.0.5)\n",
      "Requirement already satisfied: python-dateutil>=2.6.1 in /usr/local/lib/python3.7/site-packages (from pandas) (2.8.1)\n",
      "Requirement already satisfied: numpy>=1.13.3 in /usr/local/lib/python3.7/site-packages (from pandas) (1.16.2)\n",
      "Requirement already satisfied: pytz>=2017.2 in /usr/local/lib/python3.7/site-packages (from pandas) (2020.1)\n",
      "Requirement already satisfied: six>=1.5 in /usr/local/lib/python3.7/site-packages (from python-dateutil>=2.6.1->pandas) (1.12.0)\n",
      "Requirement already satisfied: geopandas in /usr/local/lib/python3.7/site-packages (0.8.0)\n",
      "Requirement already satisfied: shapely in /usr/local/lib/python3.7/site-packages (from geopandas) (1.7.0)\n",
      "Requirement already satisfied: pandas>=0.23.0 in /usr/local/lib/python3.7/site-packages (from geopandas) (1.0.5)\n",
      "Requirement already satisfied: fiona in /usr/local/lib/python3.7/site-packages (from geopandas) (1.8.13.post1)\n",
      "Requirement already satisfied: pyproj>=2.2.0 in /usr/local/lib/python3.7/site-packages (from geopandas) (2.6.1.post1)\n",
      "Requirement already satisfied: pytz>=2017.2 in /usr/local/lib/python3.7/site-packages (from pandas>=0.23.0->geopandas) (2020.1)\n",
      "Requirement already satisfied: numpy>=1.13.3 in /usr/local/lib/python3.7/site-packages (from pandas>=0.23.0->geopandas) (1.16.2)\n",
      "Requirement already satisfied: python-dateutil>=2.6.1 in /usr/local/lib/python3.7/site-packages (from pandas>=0.23.0->geopandas) (2.8.1)\n",
      "Requirement already satisfied: six>=1.7 in /usr/local/lib/python3.7/site-packages (from fiona->geopandas) (1.12.0)\n",
      "Requirement already satisfied: munch in /usr/local/lib/python3.7/site-packages (from fiona->geopandas) (2.5.0)\n",
      "Requirement already satisfied: click-plugins>=1.0 in /usr/local/lib/python3.7/site-packages (from fiona->geopandas) (1.1.1)\n",
      "Requirement already satisfied: cligj>=0.5 in /usr/local/lib/python3.7/site-packages (from fiona->geopandas) (0.5.0)\n",
      "Requirement already satisfied: attrs>=17 in /usr/local/lib/python3.7/site-packages (from fiona->geopandas) (19.3.0)\n",
      "Requirement already satisfied: click<8,>=4.0 in /usr/local/lib/python3.7/site-packages (from fiona->geopandas) (7.1.2)\n"
     ]
    }
   ],
   "source": [
    "!pip install numpy\n",
    "!pip install pandas\n",
    "!pip install geopandas"
   ]
  },
  {
   "cell_type": "markdown",
   "metadata": {},
   "source": [
    "## Module Usage\n",
    "---"
   ]
  },
  {
   "cell_type": "markdown",
   "metadata": {},
   "source": [
    "*Note:* The example input files were pulled and converted from the GeoJSON [link](http://d2ad6b4ur7yvpq.cloudfront.net/naturalearth-3.3.0/ne_110m_land.geojson) provided in the [`geopandas` IO docs](https://geopandas.org/io.html)."
   ]
  },
  {
   "cell_type": "code",
   "execution_count": null,
   "metadata": {},
   "outputs": [],
   "source": [
    "from extract import ExtractTable"
   ]
  },
  {
   "cell_type": "markdown",
   "metadata": {},
   "source": [
    "### Example 1. Extract a whole table as a `geopandas GeoDataFrame`\n",
    "#### Example 1.1. Extract a `geopandas GeoDataFrame` from a file\n",
    "- __Example 1.1.1.__ Extract from a shapefile"
   ]
  },
  {
   "cell_type": "code",
   "execution_count": null,
   "metadata": {},
   "outputs": [],
   "source": [
    "shp_path = 'example-inputs/example-shp/example.shp' # path to file containing table to extract\n",
    "\n",
    "shp_et = ExtractTable(shp_path) # alternative: shp_et = ExtractTable.read_file(filepath)\n",
    "shp_gdf = shp_et.extract() # extracts table as a geopandas GeoDataframe\n",
    "\n",
    "shp_gdf.head() # render extracted GeoDataFrame head"
   ]
  },
  {
   "cell_type": "markdown",
   "metadata": {},
   "source": [
    "- __Example 1.1.2.__ Extract from a CSV"
   ]
  },
  {
   "cell_type": "code",
   "execution_count": null,
   "metadata": {},
   "outputs": [],
   "source": [
    "csv_path = 'example-inputs/example.csv'\n",
    "\n",
    "csv_et = ExtractTable.read_file(csv_path) # using alternative\n",
    "csv_gdf = csv_et.extract()\n",
    "\n",
    "csv_gdf.head()"
   ]
  },
  {
   "cell_type": "markdown",
   "metadata": {},
   "source": [
    "- __Example 1.1.3.__ Extract from an Excel file"
   ]
  },
  {
   "cell_type": "code",
   "execution_count": null,
   "metadata": {},
   "outputs": [],
   "source": []
  },
  {
   "cell_type": "markdown",
   "metadata": {},
   "source": [
    "- __Example 1.1.4.__ Extract from a ZIP file"
   ]
  },
  {
   "cell_type": "code",
   "execution_count": null,
   "metadata": {},
   "outputs": [],
   "source": []
  },
  {
   "cell_type": "markdown",
   "metadata": {},
   "source": [
    "#### Example 1.2. Extract a `geopandas GeoDataFrame` from a URL"
   ]
  },
  {
   "cell_type": "code",
   "execution_count": null,
   "metadata": {},
   "outputs": [],
   "source": [
    "url = 'http://d2ad6b4ur7yvpq.cloudfront.net/naturalearth-3.3.0/ne_110m_land.geojson' \n",
    "    # URL copied from https://geopandas.org/io.html\n",
    "url_et = ExtractTable(url)\n",
    "url_gdf = url_et.extract()\n",
    "\n",
    "url_gdf.head() # render extracted GeoDataFrame head"
   ]
  },
  {
   "cell_type": "markdown",
   "metadata": {},
   "source": [
    "#### Example 1.3. Extract a `geopandas GeoDataFrame` from a `pandas DataFrame`"
   ]
  },
  {
   "cell_type": "code",
   "execution_count": null,
   "metadata": {},
   "outputs": [],
   "source": []
  },
  {
   "cell_type": "markdown",
   "metadata": {},
   "source": [
    "#### Example 1.4. Extract a `geopandas GeoDataFrame` from a `geopandas GeoDataFrame`"
   ]
  },
  {
   "cell_type": "code",
   "execution_count": null,
   "metadata": {},
   "outputs": [],
   "source": []
  },
  {
   "cell_type": "code",
   "execution_count": null,
   "metadata": {},
   "outputs": [],
   "source": []
  }
 ],
 "metadata": {
  "kernelspec": {
   "display_name": "Python 3",
   "language": "python",
   "name": "python3"
  },
  "language_info": {
   "codemirror_mode": {
    "name": "ipython",
    "version": 3
   },
   "file_extension": ".py",
   "mimetype": "text/x-python",
   "name": "python",
   "nbconvert_exporter": "python",
   "pygments_lexer": "ipython3",
   "version": "3.7.7"
  }
 },
 "nbformat": 4,
 "nbformat_minor": 4
}
