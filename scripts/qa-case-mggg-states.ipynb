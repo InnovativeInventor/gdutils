{
 "cells": [
  {
   "cell_type": "markdown",
   "metadata": {},
   "source": [
    "Data QA Case: ``mggg-states``\n",
    "========================\n",
    "\n",
    "Below are the steps involved in performing automated data quality checks on ``mggg-states`` data. \n",
    "\n",
    "*Note:* the automated checks are not completely exhaustive and further manual checks are required.\n",
    "\n",
    "Step 0. Setup\n",
    "----------------"
   ]
  },
  {
   "cell_type": "code",
   "execution_count": null,
   "metadata": {},
   "outputs": [],
   "source": [
    "# !pip3 install numpy\n",
    "# !pip3 install pandas\n",
    "# !pip3 install geopandas\n",
    "# !pip3 install wikipedia-api\n",
    "\n",
    "# !pip3 install git+https://github.com/KeiferC/gdutils.git"
   ]
  },
  {
   "cell_type": "code",
   "execution_count": 4,
   "metadata": {},
   "outputs": [],
   "source": [
    "import numpy as np\n",
    "import pandas as pd\n",
    "import geopandas as gpd\n",
    "import json\n",
    "import wikipediaapi\n",
    "\n",
    "import gdutils.datamine as dm\n",
    "import gdutils.dataqa as dq\n",
    "import gdutils.extract as et"
   ]
  },
  {
   "cell_type": "markdown",
   "metadata": {},
   "source": [
    "Step 1. Data collection\n",
    "---------------------------"
   ]
  },
  {
   "cell_type": "markdown",
   "metadata": {},
   "source": [
    "__Step 1.1.__ Gather ``mggg-states`` data"
   ]
  },
  {
   "cell_type": "code",
   "execution_count": 5,
   "metadata": {},
   "outputs": [],
   "source": [
    "# dm.clone_gh_repos(account='mggg-states', account_type='orgs', outpath='qafiles/')\n",
    "    # this will take some time to complete"
   ]
  },
  {
   "cell_type": "markdown",
   "metadata": {},
   "source": [
    "__Step 1.3.__ Gather MEDSL data for comparison purposes\n",
    "\n",
    "- 1.3.1. Find what data is available on GitHub"
   ]
  },
  {
   "cell_type": "code",
   "execution_count": 11,
   "metadata": {},
   "outputs": [
    {
     "name": "stdout",
     "output_type": "stream",
     "text": [
      "Repo Name                   : Repo URL\n",
      "------------------------------------------------------------------\n",
      "elections                   : https://github.com/MEDSL/elections.git\n",
      "official-precinct-returns   : https://github.com/MEDSL/official-precinct-returns.git\n",
      "primaries                   : https://github.com/MEDSL/primaries.git\n",
      "data-management             : https://github.com/MEDSL/data-management.git\n",
      "election-scrapers           : https://github.com/MEDSL/election-scrapers.git\n",
      "medslcleaner                : https://github.com/MEDSL/medslcleaner.git\n",
      "precinct-shapefiles         : https://github.com/MEDSL/precinct-shapefiles.git\n",
      "documentation               : https://github.com/MEDSL/documentation.git\n",
      "elections-performance-index : https://github.com/MEDSL/elections-performance-index.git\n",
      "constituency-returns        : https://github.com/MEDSL/constituency-returns.git\n",
      "state-returns               : https://github.com/MEDSL/state-returns.git\n",
      "county-returns              : https://github.com/MEDSL/county-returns.git\n",
      "2018-elections-unoffical    : https://github.com/MEDSL/2018-elections-unoffical.git\n",
      "2018-elections-official     : https://github.com/MEDSL/2018-elections-official.git\n",
      "Medium                      : https://github.com/MEDSL/Medium.git\n",
      "ggmedsl                     : https://github.com/MEDSL/ggmedsl.git\n",
      "resources                   : https://github.com/MEDSL/resources.git\n",
      "election-data               : https://github.com/MEDSL/election-data.git\n",
      "2019-elections-unofficial   : https://github.com/MEDSL/2019-elections-unofficial.git\n",
      "primary-precinct-returns    : https://github.com/MEDSL/primary-precinct-returns.git\n",
      "2020-primaries-unofficial   : https://github.com/MEDSL/2020-primaries-unofficial.git\n",
      "2020-Primaries-Official     : https://github.com/MEDSL/2020-Primaries-Official.git\n",
      "healthy_elections           : https://github.com/MEDSL/healthy_elections.git\n"
     ]
    }
   ],
   "source": [
    "print('{:27} : {}'.format('Repo Name', 'Repo URL'))\n",
    "print('------------------------------------------------------------------')\n",
    "for (repo, url) in dm.list_gh_repos(account='MEDSL', account_type='orgs'):\n",
    "    print(\"{:27} : {}\".format(repo, url))"
   ]
  },
  {
   "cell_type": "code",
   "execution_count": null,
   "metadata": {},
   "outputs": [],
   "source": []
  },
  {
   "cell_type": "markdown",
   "metadata": {},
   "source": [
    "- 1.3.2. Manually download data from https://electionlab.mit.edu/data"
   ]
  },
  {
   "cell_type": "markdown",
   "metadata": {},
   "source": [
    "__Step 1.2.__ Gather Wikipedia data for comparison purposes"
   ]
  },
  {
   "cell_type": "code",
   "execution_count": null,
   "metadata": {},
   "outputs": [],
   "source": []
  },
  {
   "cell_type": "markdown",
   "metadata": {},
   "source": [
    "[Coming Soon] __Step 1.4.__ Gather Ballotpedia data for comparison purposes\n",
    "\n",
    "*Note:* Depending on response to API access, this step may need to be done manually"
   ]
  },
  {
   "cell_type": "code",
   "execution_count": null,
   "metadata": {},
   "outputs": [],
   "source": []
  },
  {
   "cell_type": "markdown",
   "metadata": {},
   "source": [
    "Step 2. Data standardization check of ``mggg-states``\n",
    "---------------------------------------------------------------"
   ]
  },
  {
   "cell_type": "markdown",
   "metadata": {},
   "source": [
    "__Step 2.1__ Generate naming conventions"
   ]
  },
  {
   "cell_type": "code",
   "execution_count": null,
   "metadata": {},
   "outputs": [],
   "source": []
  },
  {
   "cell_type": "markdown",
   "metadata": {},
   "source": [
    "__Step 2.2.__ Check ``mggg-states`` data compliance with naming conventions"
   ]
  },
  {
   "cell_type": "code",
   "execution_count": null,
   "metadata": {},
   "outputs": [],
   "source": []
  },
  {
   "cell_type": "markdown",
   "metadata": {},
   "source": [
    "Step 3. Compare ``mggg-states`` data with external sources\n",
    "----------------------------------------------------------\n",
    "\n",
    "__Step 3.1.__ Compare against MEDSL"
   ]
  },
  {
   "cell_type": "code",
   "execution_count": null,
   "metadata": {},
   "outputs": [],
   "source": []
  },
  {
   "cell_type": "markdown",
   "metadata": {},
   "source": [
    "__Step 3.2.__ Compare against Wikipedia"
   ]
  },
  {
   "cell_type": "code",
   "execution_count": null,
   "metadata": {},
   "outputs": [],
   "source": []
  },
  {
   "cell_type": "markdown",
   "metadata": {},
   "source": [
    "__Step 3.3.__ Compare against Ballotpedia"
   ]
  },
  {
   "cell_type": "code",
   "execution_count": null,
   "metadata": {},
   "outputs": [],
   "source": []
  },
  {
   "cell_type": "markdown",
   "metadata": {},
   "source": [
    "Step 4. Check topological soundness of ``mggg-states`` data\n",
    "-----------------------------------------------------------------------\n",
    "\n",
    "__Step 4.1.__ Check for empty geometries"
   ]
  },
  {
   "cell_type": "code",
   "execution_count": null,
   "metadata": {},
   "outputs": [],
   "source": []
  },
  {
   "cell_type": "markdown",
   "metadata": {},
   "source": [
    "Step 5. Cleanup\n",
    "-------------------"
   ]
  },
  {
   "cell_type": "code",
   "execution_count": null,
   "metadata": {},
   "outputs": [],
   "source": [
    "# # Remove cloned repos\n",
    "# dm.remove_repos('qafiles/')"
   ]
  },
  {
   "cell_type": "code",
   "execution_count": null,
   "metadata": {},
   "outputs": [],
   "source": [
    "# # Delete output dump directory\n",
    "# !echo y | rm -rf ./qafiles"
   ]
  },
  {
   "cell_type": "code",
   "execution_count": null,
   "metadata": {},
   "outputs": [],
   "source": [
    "# # Uninstall installed python packages\n",
    "# !echo y | pip3 uninstall numpy\n",
    "# !echo y | pip3 uninstall pandas\n",
    "# !echo y | pip3 uninstall geopandas\n",
    "# !echo y | pip3 uninstall wikipedia-api\n",
    "\n",
    "# !echo y | pip3 uninstall gdutils"
   ]
  },
  {
   "cell_type": "code",
   "execution_count": null,
   "metadata": {},
   "outputs": [],
   "source": [
    "# # Reset Jupyter Notebook IPython Kernel\n",
    "# from IPython.core.display import HTML\n",
    "# HTML(\"<script>Jupyter.notebook.kernel.restart()</script>\")"
   ]
  },
  {
   "cell_type": "markdown",
   "metadata": {},
   "source": [
    "Next Steps\n",
    "-------------\n",
    "\n",
    "__Data Standardization__\n",
    "\n",
    "- Manually evaluate column naming discrepancies to determine if changes are needed\n",
    "- Manually evaluate column datatypes to determine if changes are needed\n",
    "\n",
    "__Data Comparison__\n",
    "\n",
    "- Manually investigate large differences found through comparing ``mggg-states`` data with external sources (e.g. Are absentee ballots counted? Are the precinct counts accurate? etc.) \n",
    "- For more accurate comparisons, compare ``mggg-states`` data with those in each States' Secretary of State website\n",
    "\n",
    "__Topological Soundness__\n",
    "\n",
    "- Manually examine shapefiles for gaps and overlaps. *Note:* although gaps and overlaps are not necessarily indicators of inaccurate data (because some counties have precinct islands), they do mean that the data cannot be for chain runs. \n",
    "\n",
    "__Data Documentation__\n",
    "\n",
    "- Do the READMEs provide data sources?\n",
    "- Do the READMEs describe what aggregation/disaggregation processes were used?\n",
    "- Do the READMEs discuss discrepancies/caveats in the data?\n",
    "- Do the READMEs provide scripts used and/or discuss the data wrangling/processing process?"
   ]
  },
  {
   "cell_type": "code",
   "execution_count": null,
   "metadata": {},
   "outputs": [],
   "source": []
  }
 ],
 "metadata": {
  "kernelspec": {
   "display_name": "Python 3",
   "language": "python",
   "name": "python3"
  },
  "language_info": {
   "codemirror_mode": {
    "name": "ipython",
    "version": 3
   },
   "file_extension": ".py",
   "mimetype": "text/x-python",
   "name": "python",
   "nbconvert_exporter": "python",
   "pygments_lexer": "ipython3",
   "version": "3.8.5"
  }
 },
 "nbformat": 4,
 "nbformat_minor": 4
}
