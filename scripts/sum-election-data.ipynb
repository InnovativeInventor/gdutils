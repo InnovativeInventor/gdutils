{
 "cells": [
  {
   "cell_type": "code",
   "execution_count": null,
   "metadata": {},
   "outputs": [],
   "source": [
    "!pip install numpy\n",
    "!pip install pandas\n",
    "!pip install geopandas"
   ]
  },
  {
   "cell_type": "code",
   "execution_count": null,
   "metadata": {},
   "outputs": [],
   "source": [
    "import numpy as np\n",
    "import pandas as pd\n",
    "import geopandas as gpd\n",
    "import json\n",
    "import requests\n",
    "import urllib.parse\n",
    "import subprocess\n",
    "import os"
   ]
  },
  {
   "cell_type": "markdown",
   "metadata": {},
   "source": [
    "## Cloning Data"
   ]
  },
  {
   "cell_type": "code",
   "execution_count": null,
   "metadata": {},
   "outputs": [],
   "source": [
    "gh_api = 'https://api.github.com/'\n",
    "gh_entity = 'orgs/'\n",
    "gh_account = 'mggg-states/'\n",
    "gh_endpoint = 'repos'\n",
    "\n",
    "gh_api_url = gh_api + gh_entity + gh_account + gh_endpoint\n",
    "\n",
    "raw_response = requests.get(gh_api_url)\n",
    "response = json.loads(raw_response.text)\n",
    "cmds = [['git', 'clone', repo['clone_url']] for repo in response]\n",
    "\n",
    "cmds"
   ]
  },
  {
   "cell_type": "code",
   "execution_count": null,
   "metadata": {},
   "outputs": [],
   "source": [
    "# TODO: add return code checking\n",
    "list(map(lambda cmd : subprocess.run(cmd), cmds))"
   ]
  },
  {
   "cell_type": "markdown",
   "metadata": {},
   "source": [
    "## Summing Data"
   ]
  },
  {
   "cell_type": "code",
   "execution_count": null,
   "metadata": {},
   "outputs": [],
   "source": [
    "# Grabbing files\n",
    "files_to_sum = []\n",
    "subdirs = []\n",
    "for _, dirs, _ in os.walk('.'):\n",
    "    for directory in dirs:\n",
    "        if not directory.startswith('.'):\n",
    "            subdirs.append(directory)\n",
    "\n",
    "for directory in subdirs:\n",
    "    for path, _, files in os.walk(directory):\n",
    "        for file in files:\n",
    "            if file.endswith('.zip'):\n",
    "                files_to_sum.append(os.path.join(path, file))\n",
    "\n",
    "files_to_sum"
   ]
  },
  {
   "cell_type": "markdown",
   "metadata": {},
   "source": [
    "## Clean Directory"
   ]
  },
  {
   "cell_type": "code",
   "execution_count": null,
   "metadata": {},
   "outputs": [],
   "source": [
    "!echo y | rm -r ./*-shapefiles/"
   ]
  }
 ],
 "metadata": {
  "kernelspec": {
   "display_name": "Python 3",
   "language": "python",
   "name": "python3"
  },
  "language_info": {
   "codemirror_mode": {
    "name": "ipython",
    "version": 3
   },
   "file_extension": ".py",
   "mimetype": "text/x-python",
   "name": "python",
   "nbconvert_exporter": "python",
   "pygments_lexer": "ipython3",
   "version": "3.8.3"
  }
 },
 "nbformat": 4,
 "nbformat_minor": 4
}
