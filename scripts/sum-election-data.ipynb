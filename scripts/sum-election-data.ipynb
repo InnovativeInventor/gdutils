{
 "cells": [
  {
   "cell_type": "code",
   "execution_count": 1,
   "metadata": {},
   "outputs": [
    {
     "name": "stdout",
     "output_type": "stream",
     "text": [
      "Requirement already satisfied: numpy in /usr/local/lib/python3.8/site-packages (1.19.0)\n",
      "Requirement already satisfied: pandas in /usr/local/lib/python3.8/site-packages (1.0.5)\n",
      "Requirement already satisfied: python-dateutil>=2.6.1 in /usr/local/lib/python3.8/site-packages (from pandas) (2.8.1)\n",
      "Requirement already satisfied: pytz>=2017.2 in /usr/local/lib/python3.8/site-packages (from pandas) (2020.1)\n",
      "Requirement already satisfied: numpy>=1.13.3 in /usr/local/lib/python3.8/site-packages (from pandas) (1.19.0)\n",
      "Requirement already satisfied: six>=1.5 in /usr/local/Cellar/protobuf/3.12.3/libexec/lib/python3.8/site-packages (from python-dateutil>=2.6.1->pandas) (1.15.0)\n",
      "Requirement already satisfied: geopandas in /usr/local/lib/python3.8/site-packages (0.8.0)\n",
      "Requirement already satisfied: pandas>=0.23.0 in /usr/local/lib/python3.8/site-packages (from geopandas) (1.0.5)\n",
      "Requirement already satisfied: fiona in /usr/local/lib/python3.8/site-packages (from geopandas) (1.8.13.post1)\n",
      "Requirement already satisfied: shapely in /usr/local/lib/python3.8/site-packages (from geopandas) (1.7.0)\n",
      "Requirement already satisfied: pyproj>=2.2.0 in /usr/local/lib/python3.8/site-packages (from geopandas) (2.6.1.post1)\n",
      "Requirement already satisfied: pytz>=2017.2 in /usr/local/lib/python3.8/site-packages (from pandas>=0.23.0->geopandas) (2020.1)\n",
      "Requirement already satisfied: python-dateutil>=2.6.1 in /usr/local/lib/python3.8/site-packages (from pandas>=0.23.0->geopandas) (2.8.1)\n",
      "Requirement already satisfied: numpy>=1.13.3 in /usr/local/lib/python3.8/site-packages (from pandas>=0.23.0->geopandas) (1.19.0)\n",
      "Requirement already satisfied: attrs>=17 in /usr/local/lib/python3.8/site-packages (from fiona->geopandas) (19.3.0)\n",
      "Requirement already satisfied: six>=1.7 in /usr/local/Cellar/protobuf/3.12.3/libexec/lib/python3.8/site-packages (from fiona->geopandas) (1.15.0)\n",
      "Requirement already satisfied: munch in /usr/local/lib/python3.8/site-packages (from fiona->geopandas) (2.5.0)\n",
      "Requirement already satisfied: click-plugins>=1.0 in /usr/local/lib/python3.8/site-packages (from fiona->geopandas) (1.1.1)\n",
      "Requirement already satisfied: click<8,>=4.0 in /usr/local/lib/python3.8/site-packages (from fiona->geopandas) (7.1.2)\n",
      "Requirement already satisfied: cligj>=0.5 in /usr/local/lib/python3.8/site-packages (from fiona->geopandas) (0.5.0)\n"
     ]
    }
   ],
   "source": [
    "!pip install numpy\n",
    "!pip install pandas\n",
    "!pip install geopandas"
   ]
  },
  {
   "cell_type": "code",
   "execution_count": 2,
   "metadata": {},
   "outputs": [],
   "source": [
    "import numpy as np\n",
    "import pandas as pd\n",
    "import geopandas as gpd\n",
    "import json\n",
    "import requests\n",
    "import urllib.parse\n",
    "import subprocess\n",
    "import os"
   ]
  },
  {
   "cell_type": "markdown",
   "metadata": {},
   "source": [
    "## Cloning Data"
   ]
  },
  {
   "cell_type": "code",
   "execution_count": 3,
   "metadata": {},
   "outputs": [
    {
     "data": {
      "text/plain": [
       "[['git', 'clone', 'https://github.com/mggg-states/PA-shapefiles.git'],\n",
       " ['git', 'clone', 'https://github.com/mggg-states/MA-shapefiles.git'],\n",
       " ['git', 'clone', 'https://github.com/mggg-states/WI-shapefiles.git'],\n",
       " ['git', 'clone', 'https://github.com/mggg-states/AK-shapefiles.git'],\n",
       " ['git', 'clone', 'https://github.com/mggg-states/OH-shapefiles.git'],\n",
       " ['git', 'clone', 'https://github.com/mggg-states/TX-shapefiles.git'],\n",
       " ['git', 'clone', 'https://github.com/mggg-states/GA-shapefiles.git'],\n",
       " ['git', 'clone', 'https://github.com/mggg-states/IL-shapefiles.git'],\n",
       " ['git', 'clone', 'https://github.com/mggg-states/NC-shapefiles.git'],\n",
       " ['git', 'clone', 'https://github.com/mggg-states/UT-shapefiles.git'],\n",
       " ['git', 'clone', 'https://github.com/mggg-states/VA-shapefiles.git'],\n",
       " ['git', 'clone', 'https://github.com/mggg-states/VT-shapefiles.git'],\n",
       " ['git', 'clone', 'https://github.com/mggg-states/MI-shapefiles.git'],\n",
       " ['git', 'clone', 'https://github.com/mggg-states/IA-shapefiles.git'],\n",
       " ['git', 'clone', 'https://github.com/mggg-states/RI-shapefiles.git'],\n",
       " ['git', 'clone', 'https://github.com/mggg-states/MN-shapefiles.git'],\n",
       " ['git', 'clone', 'https://github.com/mggg-states/NM-shapefiles.git'],\n",
       " ['git', 'clone', 'https://github.com/mggg-states/MD-shapefiles.git'],\n",
       " ['git', 'clone', 'https://github.com/mggg-states/OR-shapefiles.git'],\n",
       " ['git', 'clone', 'https://github.com/mggg-states/CO-shapefiles.git'],\n",
       " ['git', 'clone', 'https://github.com/mggg-states/OK-shapefiles.git'],\n",
       " ['git', 'clone', 'https://github.com/mggg-states/HI-shapefiles.git'],\n",
       " ['git', 'clone', 'https://github.com/mggg-states/CT-shapefiles.git'],\n",
       " ['git', 'clone', 'https://github.com/mggg-states/AZ-shapefiles.git'],\n",
       " ['git', 'clone', 'https://github.com/mggg-states/DE-shapefiles.git']]"
      ]
     },
     "execution_count": 3,
     "metadata": {},
     "output_type": "execute_result"
    }
   ],
   "source": [
    "gh_api = 'https://api.github.com/'\n",
    "gh_entity = 'orgs/'\n",
    "gh_account = 'mggg-states/'\n",
    "gh_endpoint = 'repos'\n",
    "\n",
    "gh_api_url = gh_api + gh_entity + gh_account + gh_endpoint\n",
    "\n",
    "raw_response = requests.get(gh_api_url)\n",
    "response = json.loads(raw_response.text)\n",
    "cmds = [['git', 'clone', repo['clone_url']] for repo in response]\n",
    "\n",
    "cmds"
   ]
  },
  {
   "cell_type": "code",
   "execution_count": 4,
   "metadata": {},
   "outputs": [
    {
     "data": {
      "text/plain": [
       "[CompletedProcess(args=['git', 'clone', 'https://github.com/mggg-states/PA-shapefiles.git'], returncode=0),\n",
       " CompletedProcess(args=['git', 'clone', 'https://github.com/mggg-states/MA-shapefiles.git'], returncode=0),\n",
       " CompletedProcess(args=['git', 'clone', 'https://github.com/mggg-states/WI-shapefiles.git'], returncode=0),\n",
       " CompletedProcess(args=['git', 'clone', 'https://github.com/mggg-states/AK-shapefiles.git'], returncode=0),\n",
       " CompletedProcess(args=['git', 'clone', 'https://github.com/mggg-states/OH-shapefiles.git'], returncode=0),\n",
       " CompletedProcess(args=['git', 'clone', 'https://github.com/mggg-states/TX-shapefiles.git'], returncode=0),\n",
       " CompletedProcess(args=['git', 'clone', 'https://github.com/mggg-states/GA-shapefiles.git'], returncode=0),\n",
       " CompletedProcess(args=['git', 'clone', 'https://github.com/mggg-states/IL-shapefiles.git'], returncode=0),\n",
       " CompletedProcess(args=['git', 'clone', 'https://github.com/mggg-states/NC-shapefiles.git'], returncode=0),\n",
       " CompletedProcess(args=['git', 'clone', 'https://github.com/mggg-states/UT-shapefiles.git'], returncode=0),\n",
       " CompletedProcess(args=['git', 'clone', 'https://github.com/mggg-states/VA-shapefiles.git'], returncode=0),\n",
       " CompletedProcess(args=['git', 'clone', 'https://github.com/mggg-states/VT-shapefiles.git'], returncode=0),\n",
       " CompletedProcess(args=['git', 'clone', 'https://github.com/mggg-states/MI-shapefiles.git'], returncode=0),\n",
       " CompletedProcess(args=['git', 'clone', 'https://github.com/mggg-states/IA-shapefiles.git'], returncode=0),\n",
       " CompletedProcess(args=['git', 'clone', 'https://github.com/mggg-states/RI-shapefiles.git'], returncode=0),\n",
       " CompletedProcess(args=['git', 'clone', 'https://github.com/mggg-states/MN-shapefiles.git'], returncode=0),\n",
       " CompletedProcess(args=['git', 'clone', 'https://github.com/mggg-states/NM-shapefiles.git'], returncode=0),\n",
       " CompletedProcess(args=['git', 'clone', 'https://github.com/mggg-states/MD-shapefiles.git'], returncode=0),\n",
       " CompletedProcess(args=['git', 'clone', 'https://github.com/mggg-states/OR-shapefiles.git'], returncode=0),\n",
       " CompletedProcess(args=['git', 'clone', 'https://github.com/mggg-states/CO-shapefiles.git'], returncode=0),\n",
       " CompletedProcess(args=['git', 'clone', 'https://github.com/mggg-states/OK-shapefiles.git'], returncode=0),\n",
       " CompletedProcess(args=['git', 'clone', 'https://github.com/mggg-states/HI-shapefiles.git'], returncode=0),\n",
       " CompletedProcess(args=['git', 'clone', 'https://github.com/mggg-states/CT-shapefiles.git'], returncode=0),\n",
       " CompletedProcess(args=['git', 'clone', 'https://github.com/mggg-states/AZ-shapefiles.git'], returncode=0),\n",
       " CompletedProcess(args=['git', 'clone', 'https://github.com/mggg-states/DE-shapefiles.git'], returncode=0)]"
      ]
     },
     "execution_count": 4,
     "metadata": {},
     "output_type": "execute_result"
    }
   ],
   "source": [
    "# TODO: add return code checking\n",
    "list(map(lambda cmd : subprocess.run(cmd), cmds))"
   ]
  },
  {
   "cell_type": "markdown",
   "metadata": {},
   "source": [
    "## Summing Data"
   ]
  },
  {
   "cell_type": "code",
   "execution_count": 5,
   "metadata": {},
   "outputs": [
    {
     "data": {
      "text/plain": [
       "['MN-shapefiles/MN12.zip',\n",
       " 'MN-shapefiles/MN16.zip',\n",
       " 'MN-shapefiles/MN14.zip',\n",
       " 'MN-shapefiles/MN12_18.zip',\n",
       " 'MN-shapefiles/Archived/MN_16.zip',\n",
       " 'MN-shapefiles/Archived/MN_14.zip',\n",
       " 'MN-shapefiles/Archived/MN_10.zip',\n",
       " 'MN-shapefiles/Archived/MN_12.zip',\n",
       " 'MN-shapefiles/Archived/MN_08.zip',\n",
       " 'MN-shapefiles/Archived/mn_08_16.zip',\n",
       " 'VT-shapefiles/VT_towns.zip',\n",
       " 'OH-shapefiles/OH_precincts.zip',\n",
       " 'AK-shapefiles/AK_precincts.zip',\n",
       " 'GA-shapefiles/GA_precincts.zip',\n",
       " 'HI-shapefiles/HI_precincts.zip',\n",
       " 'WI-shapefiles/WI_wards_12_16.zip',\n",
       " 'AZ-shapefiles/az_precincts.zip',\n",
       " 'CO-shapefiles/CO_precincts.zip',\n",
       " 'MA-shapefiles/MA_no_islands_02_10.zip',\n",
       " 'MA-shapefiles/MA_precincts_12_16.zip',\n",
       " 'MA-shapefiles/MA_no_islands_12_16.zip',\n",
       " 'MA-shapefiles/MA_precincts_02_10.zip',\n",
       " 'MD-shapefiles/MD_precincts_abs.zip',\n",
       " 'MD-shapefiles/MD_precincts.zip',\n",
       " 'NC-shapefiles/NC_VTD.zip',\n",
       " 'UT-shapefiles/UT_precincts.zip',\n",
       " 'MI-shapefiles/MI_precincts.zip',\n",
       " 'CT-shapefiles/CT_precincts.zip',\n",
       " 'RI-shapefiles/RI_precincts.zip',\n",
       " 'RI-shapefiles/Providence/Providence_blocks.zip',\n",
       " 'OR-shapefiles/OR_precincts.zip',\n",
       " 'NM-shapefiles/new_mexico_precincts.zip',\n",
       " 'PA-shapefiles/PA_VTDs.zip',\n",
       " 'IL-shapefiles/Chicago/Chicago_Precincts.zip',\n",
       " 'VA-shapefiles/VA_precincts.zip',\n",
       " 'DE-shapefiles/DE_precincts.zip',\n",
       " 'IA-shapefiles/IA_counties.zip',\n",
       " 'OK-shapefiles/OK_precincts.zip']"
      ]
     },
     "execution_count": 5,
     "metadata": {},
     "output_type": "execute_result"
    }
   ],
   "source": [
    "# Grabbing files\n",
    "files_to_sum = []\n",
    "subdirs = []\n",
    "for _, dirs, _ in os.walk('.'):\n",
    "    for directory in dirs:\n",
    "        if not directory.startswith('.'):\n",
    "            subdirs.append(directory)\n",
    "\n",
    "for directory in subdirs:\n",
    "    for path, _, files in os.walk(directory):\n",
    "        for file in files:\n",
    "            if file.endswith('.zip'):\n",
    "                files_to_sum.append(os.path.join(path, file))\n",
    "\n",
    "files_to_sum"
   ]
  },
  {
   "cell_type": "markdown",
   "metadata": {},
   "source": [
    "### File load"
   ]
  },
  {
   "cell_type": "code",
   "execution_count": 8,
   "metadata": {},
   "outputs": [
    {
     "data": {
      "text/plain": [
       "{'PRES12D',\n",
       " 'PRES12R',\n",
       " 'PRES14D',\n",
       " 'PRES14R',\n",
       " 'PRES16D',\n",
       " 'PRES16R',\n",
       " 'PRES18D',\n",
       " 'PRES18R',\n",
       " 'SEN12D',\n",
       " 'SEN12R',\n",
       " 'SEN14D',\n",
       " 'SEN14R',\n",
       " 'SEN16D',\n",
       " 'SEN16R',\n",
       " 'SEN18D',\n",
       " 'SEN18R'}"
      ]
     },
     "execution_count": 8,
     "metadata": {},
     "output_type": "execute_result"
    }
   ],
   "source": [
    "mggg_path_to_file = ''\n",
    "\n",
    "all_totals = {}\n",
    "\n",
    "offices_to_sum = ['PRES', 'SEN']\n",
    "years_to_sum = ['18', '16', '14', '12']\n",
    "parties_to_sum = ['D', 'R']\n",
    "\n",
    "generated_columns = {office + year + party for office in offices_to_sum \n",
    "                                           for year in years_to_sum \n",
    "                                           for party in parties_to_sum}\n",
    "generated_columns"
   ]
  },
  {
   "cell_type": "markdown",
   "metadata": {},
   "source": [
    "### Summation Functions"
   ]
  },
  {
   "cell_type": "code",
   "execution_count": 15,
   "metadata": {},
   "outputs": [],
   "source": [
    "def sum_values(possible_columns, mggg_gdf):\n",
    "    columns_to_sum = possible_columns.intersection(mggg_gdf.columns)\n",
    "    totals = [(column, mggg_gdf[column].sum()) for column in columns_to_sum]\n",
    "    totals.sort(key=lambda x : x[0])\n",
    "    return totals\n",
    "\n",
    "def get_mggg_gdf(path_to_zip):\n",
    "    return gpd.read_file('zip://' + path_to_zip)\n",
    "\n",
    "# TODO: consistency check of columns? requires a complete list"
   ]
  },
  {
   "cell_type": "markdown",
   "metadata": {},
   "source": [
    "### Sums\n",
    "\n",
    "Note: Done manually one-by-one due to inconsistencies across files"
   ]
  },
  {
   "cell_type": "code",
   "execution_count": 13,
   "metadata": {},
   "outputs": [
    {
     "data": {
      "text/plain": [
       "Index(['ID', 'AREA', 'DISTRICT', 'NAME', 'POPULATION', 'USH14D', 'USH14R',\n",
       "       'USH14L', 'PRES16D', 'PRES16R', 'PRES16L', 'PRES16G', 'PRES16C',\n",
       "       'SEN16D', 'SEN16R', 'SEN16L', 'USH16D', 'USH16R', 'USH16L', 'GOV18D',\n",
       "       'GOV18R', 'GOV18L', 'USH18D', 'USH18R', 'HDIST', 'TOTPOP', 'WHITE',\n",
       "       'BLACK', 'AMIN', 'ASIAN', 'NHPI', 'OTHER', 'VAP', 'WVAP', 'BVAP',\n",
       "       'AMINVAP', 'ASIANVAP', 'NHPIVAP', 'OTHERVAP', '2MOREVAP', '2MORE',\n",
       "       'geometry'],\n",
       "      dtype='object')"
      ]
     },
     "execution_count": 13,
     "metadata": {},
     "output_type": "execute_result"
    }
   ],
   "source": [
    "# Alaska\n",
    "mggg_gdf = get_mggg_gdf( 'AK-shapefiles/AK_precincts.zip')\n",
    "mggg_gdf.columns # for file validation and column checking"
   ]
  },
  {
   "cell_type": "code",
   "execution_count": 14,
   "metadata": {},
   "outputs": [
    {
     "data": {
      "text/plain": [
       "{'Alaska': [('PRES16D', 771),\n",
       "  ('PRES16R', 1071),\n",
       "  ('SEN16D', 219),\n",
       "  ('SEN16R', 985)]}"
      ]
     },
     "execution_count": 14,
     "metadata": {},
     "output_type": "execute_result"
    }
   ],
   "source": [
    "all_totals['Alaska'] = sum_values(generated_columns, mggg_gdf.head())\n",
    "all_totals"
   ]
  },
  {
   "cell_type": "code",
   "execution_count": 16,
   "metadata": {},
   "outputs": [
    {
     "data": {
      "text/plain": [
       "Index(['COUNTY', 'CNTYABV', 'CODE', 'PRECINCT', 'PCTNAME', 'AG18D', 'AG18R',\n",
       "       'GOV18D', 'GOV18R', 'SOS18D', 'SOS18R', 'SSEN18D', 'SSEN18R', 'TRE18D',\n",
       "       'TRE18R', 'USH18D', 'USH18G', 'USH18R', 'SEN18D', 'SEN18R', 'TOTPOP',\n",
       "       'NH_WHITE', 'NH_BLACK', 'NH_AMIN', 'NH_ASIAN', 'NH_NHPI', 'NH_OTHER',\n",
       "       'NH_2MORE', 'HISP', 'H_WHITE', 'H_BLACK', 'H_AMIN', 'H_ASIAN', 'H_NHPI',\n",
       "       'H_OTHER', 'H_2MORE', 'VAP', 'HVAP', 'WVAP', 'BVAP', 'AMINVAP',\n",
       "       'ASIANVAP', 'NHPIVAP', 'OTHERVAP', '2MOREVAP', 'CD', 'HDIST', 'SEND',\n",
       "       'geometry'],\n",
       "      dtype='object')"
      ]
     },
     "execution_count": 16,
     "metadata": {},
     "output_type": "execute_result"
    }
   ],
   "source": [
    "# Arizona\n",
    "mggg_gdf = get_mggg_gdf( 'AZ-shapefiles/az_precincts.zip')\n",
    "mggg_gdf.columns"
   ]
  },
  {
   "cell_type": "code",
   "execution_count": 17,
   "metadata": {},
   "outputs": [
    {
     "data": {
      "text/plain": [
       "{'Alaska': [('PRES16D', 771),\n",
       "  ('PRES16R', 1071),\n",
       "  ('SEN16D', 219),\n",
       "  ('SEN16R', 985)],\n",
       " 'Arizona': [('SEN18D', 19), ('SEN18R', 23)]}"
      ]
     },
     "execution_count": 17,
     "metadata": {},
     "output_type": "execute_result"
    }
   ],
   "source": [
    "all_totals['Arizona'] = sum_values(generated_columns, mggg_gdf.head())\n",
    "all_totals"
   ]
  },
  {
   "cell_type": "markdown",
   "metadata": {},
   "source": [
    "## Clean Directory"
   ]
  },
  {
   "cell_type": "code",
   "execution_count": null,
   "metadata": {},
   "outputs": [],
   "source": [
    "!echo y | rm -r ./*-shapefiles/"
   ]
  }
 ],
 "metadata": {
  "kernelspec": {
   "display_name": "Python 3",
   "language": "python",
   "name": "python3"
  },
  "language_info": {
   "codemirror_mode": {
    "name": "ipython",
    "version": 3
   },
   "file_extension": ".py",
   "mimetype": "text/x-python",
   "name": "python",
   "nbconvert_exporter": "python",
   "pygments_lexer": "ipython3",
   "version": "3.8.3"
  }
 },
 "nbformat": 4,
 "nbformat_minor": 4
}
