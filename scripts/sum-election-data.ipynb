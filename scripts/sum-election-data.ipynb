{
 "cells": [
  {
   "cell_type": "markdown",
   "metadata": {},
   "source": [
    "# ``mggg-states`` Data QA"
   ]
  },
  {
   "cell_type": "code",
   "execution_count": null,
   "metadata": {},
   "outputs": [],
   "source": [
    "!pip install numpy\n",
    "!pip install pandas\n",
    "!pip install geopandas"
   ]
  },
  {
   "cell_type": "code",
   "execution_count": 1,
   "metadata": {},
   "outputs": [],
   "source": [
    "import numpy as np\n",
    "import pandas as pd\n",
    "import geopandas as gpd\n",
    "import json\n",
    "\n",
    "import dataqa"
   ]
  },
  {
   "cell_type": "markdown",
   "metadata": {},
   "source": [
    "## Data Collection"
   ]
  },
  {
   "cell_type": "code",
   "execution_count": null,
   "metadata": {},
   "outputs": [],
   "source": [
    "# This is going to take a while to complete\n",
    "dataqa.clone_repos(account='mggg-states', account_type='orgs')"
   ]
  },
  {
   "cell_type": "code",
   "execution_count": 2,
   "metadata": {},
   "outputs": [
    {
     "data": {
      "text/plain": [
       "['./MN-shapefiles/MN12.zip',\n",
       " './MN-shapefiles/MN16.zip',\n",
       " './MN-shapefiles/MN14.zip',\n",
       " './MN-shapefiles/MN12_18.zip',\n",
       " './MN-shapefiles/Archived/MN_16.zip',\n",
       " './MN-shapefiles/Archived/MN_14.zip',\n",
       " './MN-shapefiles/Archived/MN_10.zip',\n",
       " './MN-shapefiles/Archived/MN_12.zip',\n",
       " './MN-shapefiles/Archived/MN_08.zip',\n",
       " './MN-shapefiles/Archived/mn_08_16.zip',\n",
       " './VT-shapefiles/VT_towns.zip',\n",
       " './OH-shapefiles/OH_precincts.zip',\n",
       " './AK-shapefiles/AK_precincts.zip',\n",
       " './GA-shapefiles/GA_precincts.zip',\n",
       " './HI-shapefiles/HI_precincts.zip',\n",
       " './WI-shapefiles/WI_wards_12_16.zip',\n",
       " './AZ-shapefiles/az_precincts.zip',\n",
       " './CO-shapefiles/CO_precincts.zip',\n",
       " './MA-shapefiles/MA_no_islands_02_10.zip',\n",
       " './MA-shapefiles/MA_precincts_12_16.zip',\n",
       " './MA-shapefiles/MA_no_islands_12_16.zip',\n",
       " './MA-shapefiles/MA_precincts_02_10.zip',\n",
       " './MD-shapefiles/MD_precincts_abs.zip',\n",
       " './MD-shapefiles/MD_precincts.zip',\n",
       " './NC-shapefiles/NC_VTD.zip',\n",
       " './UT-shapefiles/UT_precincts.zip',\n",
       " './MI-shapefiles/MI_precincts.zip',\n",
       " './CT-shapefiles/CT_precincts.zip',\n",
       " './RI-shapefiles/RI_precincts.zip',\n",
       " './RI-shapefiles/Providence/Providence_blocks.zip',\n",
       " './OR-shapefiles/OR_precincts.zip',\n",
       " './NM-shapefiles/new_mexico_precincts.zip',\n",
       " './PA-shapefiles/PA_VTDs.zip',\n",
       " './IL-shapefiles/Chicago/Chicago_Precincts.zip',\n",
       " './VA-shapefiles/VA_precincts.zip',\n",
       " './DE-shapefiles/DE_precincts.zip',\n",
       " './IA-shapefiles/IA_counties.zip',\n",
       " './OK-shapefiles/OK_precincts.zip']"
      ]
     },
     "execution_count": 2,
     "metadata": {},
     "output_type": "execute_result"
    }
   ],
   "source": [
    "mggg_shapefiles = dataqa.list_files_of_type('.zip')\n",
    "mggg_shapefiles"
   ]
  },
  {
   "cell_type": "markdown",
   "metadata": {},
   "source": [
    "## Data Standardization Check"
   ]
  },
  {
   "cell_type": "code",
   "execution_count": null,
   "metadata": {},
   "outputs": [],
   "source": []
  },
  {
   "cell_type": "markdown",
   "metadata": {},
   "source": [
    "## Election Data Summation"
   ]
  },
  {
   "cell_type": "code",
   "execution_count": null,
   "metadata": {},
   "outputs": [],
   "source": [
    "mggg_path_to_file = ''\n",
    "\n",
    "all_totals = {}\n",
    "\n",
    "offices_to_sum = ['PRES', 'SEN']\n",
    "years_to_sum = ['18', '16', '14', '12']\n",
    "parties_to_sum = ['D', 'R']\n",
    "\n",
    "generated_columns = {office + year + party for office in offices_to_sum \n",
    "                                           for year in years_to_sum \n",
    "                                           for party in parties_to_sum}\n",
    "generated_columns"
   ]
  },
  {
   "cell_type": "markdown",
   "metadata": {},
   "source": [
    "### Sums\n",
    "\n",
    "Note: Done manually one-by-one due to inconsistencies across files"
   ]
  },
  {
   "cell_type": "code",
   "execution_count": null,
   "metadata": {},
   "outputs": [],
   "source": [
    "# Alaska\n",
    "mggg_gdf = get_mggg_gdf( 'AK-shapefiles/AK_precincts.zip')\n",
    "mggg_gdf.columns # for file validation and column checking"
   ]
  },
  {
   "cell_type": "code",
   "execution_count": null,
   "metadata": {},
   "outputs": [],
   "source": [
    "all_totals['Alaska'] = sum_values(generated_columns, mggg_gdf.head())\n",
    "all_totals"
   ]
  },
  {
   "cell_type": "code",
   "execution_count": null,
   "metadata": {},
   "outputs": [],
   "source": [
    "# Arizona\n",
    "mggg_gdf = get_mggg_gdf( 'AZ-shapefiles/az_precincts.zip')\n",
    "mggg_gdf.columns"
   ]
  },
  {
   "cell_type": "code",
   "execution_count": null,
   "metadata": {},
   "outputs": [],
   "source": [
    "all_totals['Arizona'] = sum_values(generated_columns, mggg_gdf.head())\n",
    "all_totals"
   ]
  },
  {
   "cell_type": "markdown",
   "metadata": {},
   "source": [
    "## Clean Directory"
   ]
  },
  {
   "cell_type": "code",
   "execution_count": null,
   "metadata": {},
   "outputs": [],
   "source": [
    "#!echo y | rm -r ./*-shapefiles/\n",
    "dataqa.remove_repos('.')"
   ]
  },
  {
   "cell_type": "code",
   "execution_count": null,
   "metadata": {},
   "outputs": [],
   "source": []
  }
 ],
 "metadata": {
  "kernelspec": {
   "display_name": "Python 3",
   "language": "python",
   "name": "python3"
  },
  "language_info": {
   "codemirror_mode": {
    "name": "ipython",
    "version": 3
   },
   "file_extension": ".py",
   "mimetype": "text/x-python",
   "name": "python",
   "nbconvert_exporter": "python",
   "pygments_lexer": "ipython3",
   "version": "3.8.3"
  }
 },
 "nbformat": 4,
 "nbformat_minor": 4
}
