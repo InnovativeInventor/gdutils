{
 "cells": [
  {
   "cell_type": "markdown",
   "metadata": {},
   "source": [
    "# ``mggg-states`` Data QA"
   ]
  },
  {
   "cell_type": "code",
   "execution_count": null,
   "metadata": {},
   "outputs": [],
   "source": [
    "!pip install numpy\n",
    "!pip install pandas\n",
    "!pip install geopandas"
   ]
  },
  {
   "cell_type": "code",
   "execution_count": 1,
   "metadata": {},
   "outputs": [],
   "source": [
    "import numpy as np\n",
    "import pandas as pd\n",
    "import geopandas as gpd\n",
    "import json\n",
    "\n",
    "import dataqa"
   ]
  },
  {
   "cell_type": "markdown",
   "metadata": {},
   "source": [
    "## Data Collection"
   ]
  },
  {
   "cell_type": "code",
   "execution_count": null,
   "metadata": {},
   "outputs": [],
   "source": [
    "# This is going to take a while to complete\n",
    "dataqa.clone_repos(account='mggg-states', \n",
    "                   account_type='orgs', \n",
    "                   outpath='shps/')"
   ]
  },
  {
   "cell_type": "code",
   "execution_count": null,
   "metadata": {},
   "outputs": [],
   "source": [
    "mggg_shapefiles = dataqa.list_files_of_type('.zip', 'shps/')\n",
    "mggg_shapefiles"
   ]
  },
  {
   "cell_type": "markdown",
   "metadata": {},
   "source": [
    "## Data Standardization Check"
   ]
  },
  {
   "cell_type": "markdown",
   "metadata": {},
   "source": [
    "### Generate Standards"
   ]
  },
  {
   "cell_type": "code",
   "execution_count": null,
   "metadata": {
    "scrolled": true
   },
   "outputs": [],
   "source": [
    "with open('naming_convention.json') as json_file:\n",
    "    standards_raw = json.load(json_file)\n",
    "\n",
    "standards_raw"
   ]
  },
  {
   "cell_type": "code",
   "execution_count": null,
   "metadata": {},
   "outputs": [],
   "source": [
    "geographies = dataqa.get_keys_by_category(standards_raw, 'geographies')\n",
    "geographies"
   ]
  },
  {
   "cell_type": "code",
   "execution_count": null,
   "metadata": {},
   "outputs": [],
   "source": [
    "offices = dataqa.get_keys_by_category(standards_raw, 'offices')\n",
    "offices"
   ]
  },
  {
   "cell_type": "code",
   "execution_count": null,
   "metadata": {},
   "outputs": [],
   "source": [
    "parties = dataqa.get_keys_by_category(standards_raw, 'parties')\n",
    "parties"
   ]
  },
  {
   "cell_type": "code",
   "execution_count": null,
   "metadata": {},
   "outputs": [],
   "source": [
    "demographics = dataqa.get_keys_by_category(standards_raw, 'demographics')\n",
    "demographics"
   ]
  },
  {
   "cell_type": "code",
   "execution_count": null,
   "metadata": {},
   "outputs": [],
   "source": [
    "districts = dataqa.get_keys_by_category(standards_raw, 'districts')\n",
    "districts"
   ]
  },
  {
   "cell_type": "code",
   "execution_count": null,
   "metadata": {},
   "outputs": [],
   "source": [
    "counts = dataqa.get_keys_by_category(standards_raw, 'counts')\n",
    "counts"
   ]
  },
  {
   "cell_type": "code",
   "execution_count": null,
   "metadata": {
    "scrolled": true
   },
   "outputs": [],
   "source": [
    "other = dataqa.get_keys_by_category(standards_raw, 'other')\n",
    "other"
   ]
  },
  {
   "cell_type": "code",
   "execution_count": 23,
   "metadata": {},
   "outputs": [],
   "source": [
    "elections = []\n",
    "years = [18, 16, 14, 12]\n",
    "\n",
    "elections = [office + str(year) + party for office in offices\n",
    "                                        for year in years\n",
    "                                        for party in parties \n",
    "                                        if not (office == 'PRES' and\n",
    "                                                year % 4 != 0)]\n",
    "\n",
    "counts = [count + str(year) for count in counts for year in years]"
   ]
  },
  {
   "cell_type": "code",
   "execution_count": null,
   "metadata": {},
   "outputs": [],
   "source": [
    "standards = geographies + elections + demographics + districts + counts + other\n",
    "standards"
   ]
  },
  {
   "cell_type": "markdown",
   "metadata": {},
   "source": [
    "### Compare Data with Standards"
   ]
  },
  {
   "cell_type": "code",
   "execution_count": 12,
   "metadata": {},
   "outputs": [],
   "source": [
    "def gdf_from_zip(path: str) -> gpd.GeoDataFrame:\n",
    "    return gpd.read_file('zip://' + path)"
   ]
  },
  {
   "cell_type": "code",
   "execution_count": 15,
   "metadata": {},
   "outputs": [
    {
     "data": {
      "text/plain": [
       "['shps/OR-shapefiles.git/OR_precincts.zip',\n",
       " 'shps/PA-shapefiles.git/PA_VTDs.zip',\n",
       " 'shps/MN-shapefiles.git/MN12.zip',\n",
       " 'shps/MN-shapefiles.git/MN16.zip',\n",
       " 'shps/MN-shapefiles.git/MN14.zip',\n",
       " 'shps/MN-shapefiles.git/MN12_18.zip',\n",
       " 'shps/MN-shapefiles.git/Archived/MN_16.zip',\n",
       " 'shps/MN-shapefiles.git/Archived/MN_14.zip',\n",
       " 'shps/MN-shapefiles.git/Archived/MN_10.zip',\n",
       " 'shps/MN-shapefiles.git/Archived/MN_12.zip',\n",
       " 'shps/MN-shapefiles.git/Archived/MN_08.zip',\n",
       " 'shps/MN-shapefiles.git/Archived/mn_08_16.zip',\n",
       " 'shps/DE-shapefiles.git/DE_precincts.zip',\n",
       " 'shps/WI-shapefiles.git/WI_wards_12_16.zip',\n",
       " 'shps/UT-shapefiles.git/UT_precincts.zip',\n",
       " 'shps/MI-shapefiles.git/MI_precincts.zip',\n",
       " 'shps/MA-shapefiles.git/MA_no_islands_02_10.zip',\n",
       " 'shps/MA-shapefiles.git/MA_precincts_12_16.zip',\n",
       " 'shps/MA-shapefiles.git/MA_no_islands_12_16.zip',\n",
       " 'shps/MA-shapefiles.git/MA_precincts_02_10.zip',\n",
       " 'shps/VA-shapefiles.git/VA_precincts.zip',\n",
       " 'shps/MD-shapefiles.git/MD_precincts_abs.zip',\n",
       " 'shps/MD-shapefiles.git/MD_precincts.zip',\n",
       " 'shps/CO-shapefiles.git/CO_precincts.zip',\n",
       " 'shps/AZ-shapefiles.git/az_precincts.zip',\n",
       " 'shps/VT-shapefiles.git/VT_towns.zip',\n",
       " 'shps/CT-shapefiles.git/CT_precincts.zip',\n",
       " 'shps/OK-shapefiles.git/OK_precincts.zip',\n",
       " 'shps/IA-shapefiles.git/IA_counties.zip',\n",
       " 'shps/NM-shapefiles.git/new_mexico_precincts.zip',\n",
       " 'shps/OH-shapefiles.git/OH_precincts.zip',\n",
       " 'shps/HI-shapefiles.git/HI_precincts.zip',\n",
       " 'shps/IL-shapefiles.git/Chicago/Chicago_Precincts.zip',\n",
       " 'shps/GA-shapefiles.git/GA_precincts.zip',\n",
       " 'shps/RI-shapefiles.git/RI_precincts.zip',\n",
       " 'shps/RI-shapefiles.git/Providence/Providence_blocks.zip',\n",
       " 'shps/NC-shapefiles.git/NC_VTD.zip',\n",
       " 'shps/AK-shapefiles.git/AK_precincts.zip']"
      ]
     },
     "execution_count": 15,
     "metadata": {},
     "output_type": "execute_result"
    }
   ],
   "source": [
    "mggg_shapefiles"
   ]
  },
  {
   "cell_type": "markdown",
   "metadata": {},
   "source": [
    "#### Alaska"
   ]
  },
  {
   "cell_type": "code",
   "execution_count": null,
   "metadata": {},
   "outputs": [],
   "source": [
    "ak_gdf = gdf_from_zip('shps/AK-shapefiles.git/AK_precincts.zip')\n",
    "ak_gdf.columns # for file validation"
   ]
  },
  {
   "cell_type": "code",
   "execution_count": null,
   "metadata": {},
   "outputs": [],
   "source": [
    "(ak_matches, ak_discrepancies) = dataqa.compare_column_names(ak_gdf, standards)"
   ]
  },
  {
   "cell_type": "code",
   "execution_count": null,
   "metadata": {},
   "outputs": [],
   "source": [
    "ak_matches # manually check that the matches are good for summing"
   ]
  },
  {
   "cell_type": "code",
   "execution_count": null,
   "metadata": {},
   "outputs": [],
   "source": [
    "ak_discrepancies # manually check if the discrepancies are acceptable"
   ]
  },
  {
   "cell_type": "markdown",
   "metadata": {},
   "source": [
    "#### Arizona"
   ]
  },
  {
   "cell_type": "code",
   "execution_count": null,
   "metadata": {},
   "outputs": [],
   "source": [
    "az_gdf = gdf_from_zip('shps/AZ-shapefiles.git/az_precincts.zip')\n",
    "az_gdf.columns"
   ]
  },
  {
   "cell_type": "code",
   "execution_count": null,
   "metadata": {},
   "outputs": [],
   "source": [
    "(az_matches, az_discrepancies) = dataqa.compare_column_names(az_gdf, standards)\n",
    "az_matches"
   ]
  },
  {
   "cell_type": "code",
   "execution_count": null,
   "metadata": {},
   "outputs": [],
   "source": [
    "az_discrepancies"
   ]
  },
  {
   "cell_type": "markdown",
   "metadata": {},
   "source": [
    "#### "
   ]
  },
  {
   "cell_type": "markdown",
   "metadata": {},
   "source": [
    "## Election Data Summation"
   ]
  },
  {
   "cell_type": "code",
   "execution_count": null,
   "metadata": {},
   "outputs": [],
   "source": [
    "mggg_path_to_file = ''\n",
    "\n",
    "all_totals = {}\n",
    "\n",
    "offices_to_sum = ['PRES', 'SEN']\n",
    "years_to_sum = ['18', '16', '14', '12']\n",
    "parties_to_sum = ['D', 'R']\n",
    "\n",
    "generated_columns = {office + year + party for office in offices_to_sum \n",
    "                                           for year in years_to_sum \n",
    "                                           for party in parties_to_sum}\n",
    "generated_columns"
   ]
  },
  {
   "cell_type": "markdown",
   "metadata": {},
   "source": [
    "### Sums\n",
    "\n",
    "Note: Done manually one-by-one due to inconsistencies across files"
   ]
  },
  {
   "cell_type": "code",
   "execution_count": null,
   "metadata": {},
   "outputs": [],
   "source": [
    "# Alaska\n",
    "mggg_gdf = get_mggg_gdf( 'AK-shapefiles/AK_precincts.zip')\n",
    "mggg_gdf.columns # for file validation and column checking"
   ]
  },
  {
   "cell_type": "code",
   "execution_count": null,
   "metadata": {},
   "outputs": [],
   "source": [
    "all_totals['Alaska'] = sum_values(generated_columns, mggg_gdf.head())\n",
    "all_totals"
   ]
  },
  {
   "cell_type": "code",
   "execution_count": null,
   "metadata": {},
   "outputs": [],
   "source": [
    "# Arizona\n",
    "mggg_gdf = get_mggg_gdf( 'AZ-shapefiles/az_precincts.zip')\n",
    "mggg_gdf.columns"
   ]
  },
  {
   "cell_type": "code",
   "execution_count": null,
   "metadata": {},
   "outputs": [],
   "source": [
    "all_totals['Arizona'] = sum_values(generated_columns, mggg_gdf.head())\n",
    "all_totals"
   ]
  },
  {
   "cell_type": "markdown",
   "metadata": {},
   "source": [
    "## Clean Directory"
   ]
  },
  {
   "cell_type": "code",
   "execution_count": null,
   "metadata": {},
   "outputs": [],
   "source": [
    "#!echo y | rm -r ./*-shapefiles/\n",
    "dataqa.remove_repos('.')"
   ]
  },
  {
   "cell_type": "code",
   "execution_count": null,
   "metadata": {},
   "outputs": [],
   "source": []
  }
 ],
 "metadata": {
  "kernelspec": {
   "display_name": "Python 3",
   "language": "python",
   "name": "python3"
  },
  "language_info": {
   "codemirror_mode": {
    "name": "ipython",
    "version": 3
   },
   "file_extension": ".py",
   "mimetype": "text/x-python",
   "name": "python",
   "nbconvert_exporter": "python",
   "pygments_lexer": "ipython3",
   "version": "3.8.3"
  }
 },
 "nbformat": 4,
 "nbformat_minor": 4
}
